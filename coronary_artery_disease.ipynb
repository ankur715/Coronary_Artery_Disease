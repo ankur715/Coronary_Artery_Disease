{
 "cells": [
  {
   "cell_type": "code",
   "execution_count": 1,
   "metadata": {},
   "outputs": [],
   "source": [
    "### Heart Disease\n",
    "\n",
    "#####################################################################################\n",
    "\n",
    "# This file only includes the codes for this project. \n",
    "# All details and decriptions can be seen in the Rmd or Docx file.\n",
    "# A brief overview: read, summarize, clean, train & test, logistic regression,\n",
    "# support vector machines, predict, compare, accuracy, log. \n",
    "# The docx report has a description for the variables."
   ]
  },
  {
   "cell_type": "code",
   "execution_count": 3,
   "metadata": {},
   "outputs": [
    {
     "name": "stdout",
     "output_type": "stream",
     "text": [
      "'data.frame':\t303 obs. of  15 variables:\n",
      " $ X        : int  1 2 3 4 5 6 7 8 9 10 ...\n",
      " $ Age      : int  63 67 67 37 41 56 62 57 63 53 ...\n",
      " $ Sex      : int  1 1 1 1 0 1 0 0 1 1 ...\n",
      " $ ChestPain: Factor w/ 4 levels \"asymptomatic\",..: 4 1 1 2 3 3 1 1 1 1 ...\n",
      " $ RestBP   : int  145 160 120 130 130 120 140 120 130 140 ...\n",
      " $ Chol     : int  233 286 229 250 204 236 268 354 254 203 ...\n",
      " $ Fbs      : int  1 0 0 0 0 0 0 0 0 1 ...\n",
      " $ RestECG  : int  2 2 2 0 2 0 2 0 2 2 ...\n", 
      " $ MaxHR    : int  150 108 129 187 172 178 160 163 147 155 ...\n",
      " $ ExAng    : int  0 1 1 0 0 0 0 1 0 1 ...\n",
      " $ Oldpeak  : num  2.3 1.5 2.6 3.5 1.4 0.8 3.6 0.6 1.4 3.1 ...\n",
      " $ Slope    : int  3 2 2 3 1 1 3 1 2 3 ...\n",
      " $ Ca       : int  0 3 2 0 0 0 2 0 1 0 ...\n",
      " $ Thal     : Factor w/ 3 levels \"fixed\",\"normal\",..: 1 2 3 2 2 2 2 2 3 3 ...\n",
      " $ AHD      : Factor w/ 2 levels \"No\",\"Yes\": 1 2 2 1 1 1 2 1 2 2 ...\n"
     ]
    },
    {
     "data": {
      "text/plain": [
       "       X              Age             Sex                ChestPain  \n",
       " Min.   :  1.0   Min.   :29.00   Min.   :0.0000   asymptomatic:144  \n",
       " 1st Qu.: 76.5   1st Qu.:48.00   1st Qu.:0.0000   nonanginal  : 86  \n",
       " Median :152.0   Median :56.00   Median :1.0000   nontypical  : 50  \n",
       " Mean   :152.0   Mean   :54.44   Mean   :0.6799   typical     : 23  \n",
       " 3rd Qu.:227.5   3rd Qu.:61.00   3rd Qu.:1.0000                     \n",
       " Max.   :303.0   Max.   :77.00   Max.   :1.0000                     \n",
       "                                                                    \n",
       "     RestBP           Chol            Fbs            RestECG      \n",
       " Min.   : 94.0   Min.   :126.0   Min.   :0.0000   Min.   :0.0000  \n",
       " 1st Qu.:120.0   1st Qu.:211.0   1st Qu.:0.0000   1st Qu.:0.0000  \n",
       " Median :130.0   Median :241.0   Median :0.0000   Median :1.0000  \n",
       " Mean   :131.7   Mean   :246.7   Mean   :0.1485   Mean   :0.9901  \n",
       " 3rd Qu.:140.0   3rd Qu.:275.0   3rd Qu.:0.0000   3rd Qu.:2.0000  \n",
       " Max.   :200.0   Max.   :564.0   Max.   :1.0000   Max.   :2.0000  \n",
       "                                                                  \n",
       "     MaxHR           ExAng           Oldpeak         Slope      \n",
       " Min.   : 71.0   Min.   :0.0000   Min.   :0.00   Min.   :1.000  \n",
       " 1st Qu.:133.5   1st Qu.:0.0000   1st Qu.:0.00   1st Qu.:1.000  \n",
       " Median :153.0   Median :0.0000   Median :0.80   Median :2.000  \n",
       " Mean   :149.6   Mean   :0.3267   Mean   :1.04   Mean   :1.601  \n",
       " 3rd Qu.:166.0   3rd Qu.:1.0000   3rd Qu.:1.60   3rd Qu.:2.000  \n",
       " Max.   :202.0   Max.   :1.0000   Max.   :6.20   Max.   :3.000  \n",
       "                                                                \n",
       "       Ca                 Thal      AHD     \n",
       " Min.   :0.0000   fixed     : 18   No :164  \n",
       " 1st Qu.:0.0000   normal    :166   Yes:139  \n",
       " Median :0.0000   reversable:117            \n",
       " Mean   :0.6722   NA's      :  2            \n",
       " 3rd Qu.:1.0000                             \n",
       " Max.   :3.0000                             \n",
       " NA's   :4                                  "
      ]
     },
     "metadata": {},
     "output_type": "display_data"
    }
   ],
   "source": [
    "### Read, View, Structure, Summary  \n",
    "heart <- read.csv(file.choose())\n",
    "#View(heart)\n",
    "str(heart)\n",
    "# use dim(heart) if only want dimensions\n",
    "summary(heart)\n",
    "# 303 obs. of 15 variables (12 numeric, 3 factors)"
   ]
  },
  {
   "cell_type": "code",
   "execution_count": 4,
   "metadata": {},
   "outputs": [
    {
     "data": {
      "text/html": [
       "TRUE"
      ],
      "text/latex": [
       "TRUE"
      ],
      "text/markdown": [
       "TRUE"
      ],
      "text/plain": [
       "[1] TRUE"
      ]
     },
     "metadata": {},
     "output_type": "display_data"
    },
    {
     "data": {
      "text/html": [
       "FALSE"
      ],
      "text/latex": [
       "FALSE"
      ],
      "text/markdown": [
       "FALSE"
      ],
      "text/plain": [
       "[1] FALSE"
      ]
     },
     "metadata": {},
     "output_type": "display_data"
    }
   ],
   "source": [
    "### Clean\n",
    "anyNA(heart)\n",
    "# TRUE: contains NA values\n",
    "# removed NA rows and 'X' variable\n",
    "heart1 <- heart[,-c(1)]\n",
    "heart1 <- na.omit(heart1)\n",
    "# heart1 <- heart1[complete.cases(heart1), ]\n",
    "anyNA(heart1)\n",
    "# FALSE"
   ]
  },
  {
   "cell_type": "code",
   "execution_count": 5,
   "metadata": {},
   "outputs": [
    {
     "name": "stdout",
     "output_type": "stream",
     "text": [
      "'data.frame':\t297 obs. of  14 variables:\n",
      " $ Age      : int  63 67 67 37 41 56 62 57 63 53 ...\n",
      " $ Sex      : Factor w/ 2 levels \"female\",\"male\": 2 2 2 2 1 2 1 1 2 2 ...\n",
      " $ ChestPain: Factor w/ 4 levels \"asymptomatic\",..: 4 1 1 2 3 3 1 1 1 1 ...\n",
      " $ RestBP   : int  145 160 120 130 130 120 140 120 130 140 ...\n",
      " $ Chol     : int  233 286 229 250 204 236 268 354 254 203 ...\n",
      " $ Fbs      : Factor w/ 2 levels \"false\",\"true\": 2 1 1 1 1 1 1 1 1 2 ...\n",
      " $ RestECG  : Factor w/ 3 levels \"normal\",\"stt\",..: 3 3 3 1 3 1 3 1 3 3 ...\n",
      " $ MaxHR    : int  150 108 129 187 172 178 160 163 147 155 ...\n",
      " $ ExAng    : Factor w/ 2 levels \"no\",\"yes\": 1 2 2 1 1 1 1 2 1 2 ...\n",
      " $ Oldpeak  : num  2.3 1.5 2.6 3.5 1.4 0.8 3.6 0.6 1.4 3.1 ...\n",
      " $ Slope    : Factor w/ 3 levels \"upsloping\",\"flat\",..: 3 2 2 3 1 1 3 1 2 3 ...\n",
      " $ Ca       : Factor w/ 4 levels \"0 major vessels\",..: 1 4 3 1 1 1 3 1 2 1 ...\n",
      " $ Thal     : Factor w/ 3 levels \"fixed\",\"normal\",..: 1 2 3 2 2 2 2 2 3 3 ...\n",
      " $ AHD      : Factor w/ 2 levels \"<50% diam.\",\">50% diam.\": 1 2 2 1 1 1 2 1 2 2 ...\n",
      " - attr(*, \"na.action\")= 'omit' Named int  88 167 193 267 288 303\n",
      "  ..- attr(*, \"names\")= chr  \"88\" \"167\" \"193\" \"267\" ...\n"
     ]
    }
   ],
   "source": [
    "### Factors with levels\n",
    "heart1$Sex <- as.factor(heart1$Sex)\n",
    "levels(heart1$Sex) <- c(\"female\",\"male\") \n",
    "heart1$ChestPain <- as.factor(heart1$ChestPain)\n",
    "heart1$Fbs <- as.factor(heart1$Fbs)\n",
    "levels(heart1$Fbs) <- c(\"false\",\"true\")\n",
    "heart1$RestECG <- as.factor(heart1$RestECG)\n",
    "levels(heart1$RestECG) <- c(\"normal\",\"stt\",\"hypertrophy\")\n",
    "heart1$ExAng <- as.factor(heart1$ExAng)\n",
    "levels(heart1$ExAng) <- c(\"no\",\"yes\")\n",
    "heart1$Slope <- as.factor(heart1$Slope)\n",
    "levels(heart1$Slope) <- c(\"upsloping\",\"flat\",\"downsloping\")\n",
    "heart1$Ca <- as.factor(heart1$Ca)\n",
    "levels(heart1$Ca) <- c(\"0 major vessels\",\"1 major vessel\",\"2 major vessels\",\"3 major vessels\")\n",
    "levels(heart1$AHD) <- c(\"<50% diam.\",\">50% diam.\")\n",
    "str(heart1) "
   ]
  },
  {
   "cell_type": "code",
   "execution_count": 6,
   "metadata": {},
   "outputs": [
    {
     "name": "stderr",
     "output_type": "stream",
     "text": [
      "corrplot 0.84 loaded\n"
     ]
    },
    {
     "data": {
      "image/png": "[encoded data removed]",
      "text/plain": [
       "Plot with title \"\""
      ]
     },
     "metadata": {},
     "output_type": "display_data"
    }
   ],
   "source": [
    "### Correlation of Continuous variables\n",
    "library(corrplot)\n",
    "heart2 <- heart1[, c(\"Age\",\"RestBP\",\"Chol\",\"MaxHR\",\"Oldpeak\")]\n",
    "heart2 <- as.data.frame(heart2)\n",
    "g <- cor(heart2)\n",
    "corrplot.mixed(g, upper = \"color\", lower = \"number\", lower.col = \"black\", number.cex = .7,\n",
    "               tl.pos = \"lt\", tl.col = \"black\", tl.offset=1)"
   ]
  },
  {
   "cell_type": "code",
   "execution_count": 7,
   "metadata": {},
   "outputs": [
    {
     "data": {
      "text/plain": [
       "$Sex\n",
       "        AHD\n",
       "x        <50% diam. >50% diam.\n",
       "  female         71         25\n",
       "  male           89        112\n",
       "\n",
       "$ChestPain\n",
       "              AHD\n",
       "x              <50% diam. >50% diam.\n",
       "  asymptomatic         39        103\n",
       "  nonanginal           65         18\n",
       "  nontypical           40          9\n",
       "  typical              16          7\n",
       "\n",
       "$Fbs\n",
       "       AHD\n",
       "x       <50% diam. >50% diam.\n",
       "  false        137        117\n",
       "  true          23         20\n",
       "\n",
       "$RestECG\n",
       "             AHD\n",
       "x             <50% diam. >50% diam.\n",
       "  hypertrophy         67         79\n",
       "  normal              92         55\n",
       "  stt                  1          3\n",
       "\n",
       "$ExAng\n",
       "     AHD\n",
       "x     <50% diam. >50% diam.\n",
       "  no         137         63\n",
       "  yes         23         74\n",
       "\n",
       "$Slope\n",
       "             AHD\n",
       "x             <50% diam. >50% diam.\n",
       "  downsloping          9         12\n",
       "  flat                48         89\n",
       "  upsloping          103         36\n",
       "\n",
       "$Ca\n",
       "                 AHD\n",
       "x                 <50% diam. >50% diam.\n",
       "  0 major vessels        129         45\n",
       "  1 major vessel          21         44\n",
       "  2 major vessels          7         31\n",
       "  3 major vessels          3         17\n",
       "\n",
       "$Thal\n",
       "            AHD\n",
       "x            <50% diam. >50% diam.\n",
       "  fixed               6         12\n",
       "  normal            127         37\n",
       "  reversable         27         88\n",
       "\n",
       "$AHD\n",
       "            AHD\n",
       "x            <50% diam. >50% diam.\n",
       "  <50% diam.        160          0\n",
       "  >50% diam.          0        137\n"
      ]
     },
     "metadata": {},
     "output_type": "display_data"
    }
   ],
   "source": [
    "not_num <- heart1[, -which(names(heart1) %in% c(\"Age\",\"RestBP\", \"Chol\", \"MaxHR\", \"Oldpeak\"))]\n",
    "label_val <- function(x){\n",
    "  w <- table( x , AHD = heart1$AHD)\n",
    "  return(w)\n",
    "}\n",
    "apply(not_num, 2, label_val)"
   ]
  },
  {
   "cell_type": "code",
   "execution_count": 8,
   "metadata": {},
   "outputs": [
    {
     "data": {
      "text/html": [
       "<dl>\n",
       "\t<dt>$MEAN</dt>\n",
       "\t\t<dd><table>\n",
       "<thead><tr><th></th><th scope=col>Age</th><th scope=col>RestBP</th><th scope=col>Chol</th><th scope=col>MaxHR</th><th scope=col>Oldpeak</th></tr></thead>\n",
       "<tbody>\n",
       "\t<tr><th scope=row>&lt;50% diam.</th><td>52.64375</td><td>129.175 </td><td>243.4938</td><td>158.5813</td><td>0.598750</td></tr>\n",
       "\t<tr><th scope=row>&gt;50% diam.</th><td>56.75912</td><td>134.635 </td><td>251.8540</td><td>139.1095</td><td>1.589051</td></tr>\n",
       "</tbody>\n",
       "</table>\n",
       "</dd>\n",
       "\t<dt>$MEDIAN</dt>\n",
       "\t\t<dd><table>\n",
       "<thead><tr><th></th><th scope=col>Age</th><th scope=col>RestBP</th><th scope=col>Chol</th><th scope=col>MaxHR</th><th scope=col>Oldpeak</th></tr></thead>\n",
       "<tbody>\n",
       "\t<tr><th scope=row>&lt;50% diam.</th><td>52   </td><td>130  </td><td>235.5</td><td>161  </td><td>0.2  </td></tr>\n",
       "\t<tr><th scope=row>&gt;50% diam.</th><td>58   </td><td>130  </td><td>253.0</td><td>142  </td><td>1.4  </td></tr>\n",
       "</tbody>\n",
       "</table>\n",
       "</dd>\n",
       "\t<dt>$SD</dt>\n",
       "\t\t<dd><table>\n",
       "<thead><tr><th></th><th scope=col>Age</th><th scope=col>RestBP</th><th scope=col>Chol</th><th scope=col>MaxHR</th><th scope=col>Oldpeak</th></tr></thead>\n",
       "<tbody>\n",
       "\t<tr><th scope=row>&lt;50% diam.</th><td>9.551151 </td><td>16.37399 </td><td>53.75755 </td><td>19.04330 </td><td>0.7871601</td></tr>\n",
       "\t<tr><th scope=row>&gt;50% diam.</th><td>7.899670 </td><td>18.89673 </td><td>49.67994 </td><td>22.71067 </td><td>1.3050061</td></tr>\n",
       "</tbody>\n",
       "</table>\n",
       "</dd>\n",
       "</dl>\n"
      ],
      "text/latex": [
       "\\begin{description}\n",
       "\\item[\\$MEAN] \\begin{tabular}{r|lllll}\n",
       "  & Age & RestBP & Chol & MaxHR & Oldpeak\\\\\n",
       "\\hline\n",
       "\t<50\\% diam. & 52.64375 & 129.175  & 243.4938 & 158.5813 & 0.598750\\\\\n",
       "\t>50\\% diam. & 56.75912 & 134.635  & 251.8540 & 139.1095 & 1.589051\\\\\n",
       "\\end{tabular}\n",
       "\n",
       "\\item[\\$MEDIAN] \\begin{tabular}{r|lllll}\n",
       "  & Age & RestBP & Chol & MaxHR & Oldpeak\\\\\n",
       "\\hline\n",
       "\t<50\\% diam. & 52    & 130   & 235.5 & 161   & 0.2  \\\\\n",
       "\t>50\\% diam. & 58    & 130   & 253.0 & 142   & 1.4  \\\\\n",
       "\\end{tabular}\n",
       "\n",
       "\\item[\\$SD] \\begin{tabular}{r|lllll}\n",
       "  & Age & RestBP & Chol & MaxHR & Oldpeak\\\\\n",
       "\\hline\n",
       "\t<50\\% diam. & 9.551151  & 16.37399  & 53.75755  & 19.04330  & 0.7871601\\\\\n",
       "\t>50\\% diam. & 7.899670  & 18.89673  & 49.67994  & 22.71067  & 1.3050061\\\\\n",
       "\\end{tabular}\n",
       "\n",
       "\\end{description}\n"
      ],
      "text/markdown": [
       "$MEAN\n",
       ":   \n",
       "| <!--/--> | Age | RestBP | Chol | MaxHR | Oldpeak | \n",
       "|---|---|\n",
       "| <50% diam. | 52.64375 | 129.175  | 243.4938 | 158.5813 | 0.598750 | \n",
       "| >50% diam. | 56.75912 | 134.635  | 251.8540 | 139.1095 | 1.589051 | \n",
       "\n",
       "\n",
       "\n",
       "$MEDIAN\n",
       ":   \n",
       "| <!--/--> | Age | RestBP | Chol | MaxHR | Oldpeak | \n",
       "|---|---|\n",
       "| <50% diam. | 52    | 130   | 235.5 | 161   | 0.2   | \n",
       "| >50% diam. | 58    | 130   | 253.0 | 142   | 1.4   | \n",
       "\n",
       "\n",
       "\n",
       "$SD\n",
       ":   \n",
       "| <!--/--> | Age | RestBP | Chol | MaxHR | Oldpeak | \n",
       "|---|---|\n",
       "| <50% diam. | 9.551151  | 16.37399  | 53.75755  | 19.04330  | 0.7871601 | \n",
       "| >50% diam. | 7.899670  | 18.89673  | 49.67994  | 22.71067  | 1.3050061 | \n",
       "\n",
       "\n",
       "\n",
       "\n",
       "\n"
      ],
      "text/plain": [
       "$MEAN\n",
       "                Age  RestBP     Chol    MaxHR  Oldpeak\n",
       "<50% diam. 52.64375 129.175 243.4938 158.5813 0.598750\n",
       ">50% diam. 56.75912 134.635 251.8540 139.1095 1.589051\n",
       "\n",
       "$MEDIAN\n",
       "           Age RestBP  Chol MaxHR Oldpeak\n",
       "<50% diam.  52    130 235.5   161     0.2\n",
       ">50% diam.  58    130 253.0   142     1.4\n",
       "\n",
       "$SD\n",
       "                Age   RestBP     Chol    MaxHR   Oldpeak\n",
       "<50% diam. 9.551151 16.37399 53.75755 19.04330 0.7871601\n",
       ">50% diam. 7.899670 18.89673 49.67994 22.71067 1.3050061\n"
      ]
     },
     "metadata": {},
     "output_type": "display_data"
    }
   ],
   "source": [
    "### Mean, median, and SD for all columns that are not factors ###############  \n",
    "mean <- sapply(heart1[,c(\"Age\", \"RestBP\", \"Chol\", \"MaxHR\", \"Oldpeak\")], tapply, INDEX=heart1$AHD, mean)\n",
    "median <- sapply(heart1[,c(\"Age\", \"RestBP\", \"Chol\", \"MaxHR\", \"Oldpeak\")], tapply, INDEX=heart1$AHD, median)\n",
    "sd <- sapply(heart1[,c(\"Age\", \"RestBP\", \"Chol\", \"MaxHR\", \"Oldpeak\")], tapply, INDEX=heart1$AHD, sd)\n",
    "stat_list <- list(MEAN=mean, MEDIAN=median, SD=sd)\n",
    "stat_list"
   ]
  },
  {
   "cell_type": "code",
   "execution_count": 10,
   "metadata": {},
   "outputs": [
    {
     "data": {},
     "metadata": {},
     "output_type": "display_data"
    },
    {
     "name": "stderr",
     "output_type": "stream",
     "text": [
      "`geom_smooth()` using method = 'loess' and formula 'y ~ x'\n"
     ]
    },
    {
     "data": {},
     "metadata": {},
     "output_type": "display_data"
    },
    {
     "data": {
      "image/png": "[encoded data removed]",
      "text/plain": [
       "plot without title"
      ]
     },
     "metadata": {},
     "output_type": "display_data"
    },
    {
     "data": {
      "image/png": "[encoded data removed]",
      "text/plain": [
       "plot without title"
      ]
     },
     "metadata": {},
     "output_type": "display_data"
    }
   ],
   "source": [
    "### Plots: variables\n",
    "library(ggplot2)\n",
    "ggplot(heart1, aes(x=AHD, y=RestBP, color= ChestPain, size=Oldpeak)) + geom_point() + \n",
    "  ggtitle(\"AHD vs RestBP \\n by ChestPain\") \n",
    "ggplot(heart1, aes(x=Age, y=MaxHR, color=AHD)) + geom_point() + geom_smooth() + \n",
    "  ggtitle(\"Age vs MaxHR \\n by AHD\")"
   ]
  },
  {
   "cell_type": "code",
   "execution_count": 11,
   "metadata": {},
   "outputs": [
    {
     "data": {
      "image/png": "[encoded data removed]",
      "text/plain": [
       "plot without title"
      ]
     },
     "metadata": {},
     "output_type": "display_data"
    },
    {
     "data": {
      "image/png": "[encoded data removed]",
      "text/plain": [
       "plot without title"
      ]
     },
     "metadata": {},
     "output_type": "display_data"
    },
    {
     "data": {
      "image/png": "[encoded data removed]",
      "text/plain": [
       "plot without title"
      ]
     },
     "metadata": {},
     "output_type": "display_data"
    },
    {
     "data": {
      "image/png": "[encoded data removed]",
      "text/plain": [
       "plot without title"
      ]
     },
     "metadata": {},
     "output_type": "display_data"
    },
    {
     "data": {
      "image/png": "[encoded data removed]",
      "text/plain": [
       "plot without title"
      ]
     },
     "metadata": {},
     "output_type": "display_data"
    }
   ],
   "source": [
    "### Box plots \n",
    "num <- heart1[,c(\"Age\", \"RestBP\", \"Chol\", \"MaxHR\", \"Oldpeak\", \"AHD\")]\n",
    "for(i in names(num)[-6]){\n",
    "  plot <- ggplot(num, aes_string(\"AHD\", y = i)) + geom_boxplot() + ggtitle(paste0(i, \" vs. AHD\")) + \n",
    "    theme(plot.title = element_text(hjust = 0.5))\n",
    "  print(plot)\n",
    "}"
   ]
  },
  {
   "cell_type": "code",
   "execution_count": 12,
   "metadata": {},
   "outputs": [
    {
     "data": {
      "image/png": "[encoded data removed]",
      "text/plain": [
       "plot without title"
      ]
     },
     "metadata": {},
     "output_type": "display_data"
    },
    {
     "data": {
      "image/png": "[encoded data removed]",
      "text/plain": [
       "plot without title"
      ]
     },
     "metadata": {},
     "output_type": "display_data"
    },
    {
     "data": {
      "image/png": "[encoded data removed]",
      "text/plain": [
       "plot without title"
      ]
     },
     "metadata": {},
     "output_type": "display_data"
    },
    {
     "data": {
      "image/png": "[encoded data removed]",
      "text/plain": [
       "plot without title"
      ]
     },
     "metadata": {},
     "output_type": "display_data"
    },
    {
     "data": {
      "image/png": "[encoded data removed]",
      "text/plain": [
       "plot without title"
      ]
     },
     "metadata": {},
     "output_type": "display_data"
    },
    {
     "data": {
      "image/png": "[encoded data removed]",
      "text/plain": [
       "plot without title"
      ]
     },
     "metadata": {},
     "output_type": "display_data"
    },
    {
     "data": {
      "image/png": "[encoded data removed]",
      "text/plain": [
       "plot without title"
      ]
     },
     "metadata": {},
     "output_type": "display_data"
    },
    {
     "data": {
      "image/png": "[encoded data removed]",
      "text/plain": [
       "plot without title"
      ]
     },
     "metadata": {},
     "output_type": "display_data"
    }
   ],
   "source": [
    "### Bar Chart                 \n",
    "not_num <- heart1[ , -which(names(heart1) %in% c(\"Age\", \"RestBP\", \"Chol\", \"MaxHR\", \"Oldpeak\"))]\n",
    "for(i in names(not_num)[-8]){\n",
    "  plot <- ggplot(not_num, aes_string(\"AHD\", fill = i)) + geom_bar() + ggtitle(paste0(i, \" vs. AHD\")) + \n",
    "    theme(plot.title = element_text(hjust = 0.5)) \n",
    "  print(plot)\n",
    "} "
   ]
  },
  {
   "cell_type": "code",
   "execution_count": 13,
   "metadata": {},
   "outputs": [
    {
     "data": {
      "text/plain": [
       "      Age            Sex             ChestPain       RestBP     \n",
       " Min.   :29.00   female: 74   asymptomatic:111   Min.   : 94.0  \n",
       " 1st Qu.:47.00   male  :163   nonanginal  : 69   1st Qu.:120.0  \n",
       " Median :56.00                nontypical  : 36   Median :130.0  \n",
       " Mean   :54.51                typical     : 21   Mean   :131.8  \n",
       " 3rd Qu.:62.00                                   3rd Qu.:140.0  \n",
       " Max.   :77.00                                   Max.   :200.0  \n",
       "      Chol          Fbs             RestECG        MaxHR       ExAng    \n",
       " Min.   :126.0   false:209   normal     :114   Min.   : 71.0   no :161  \n",
       " 1st Qu.:212.0   true : 28   stt        :  4   1st Qu.:134.0   yes: 76  \n",
       " Median :243.0               hypertrophy:119   Median :153.0            \n",
       " Mean   :247.2                                 Mean   :150.2            \n",
       " 3rd Qu.:276.0                                 3rd Qu.:165.0            \n",
       " Max.   :564.0                                 Max.   :202.0            \n",
       "    Oldpeak              Slope                   Ca              Thal    \n",
       " Min.   :0.000   upsloping  :106   0 major vessels:133   fixed     : 15  \n",
       " 1st Qu.:0.000   flat       :111   1 major vessel : 56   normal    :130  \n",
       " Median :0.800   downsloping: 20   2 major vessels: 31   reversable: 92  \n",
       " Mean   :1.092                     3 major vessels: 17                   \n",
       " 3rd Qu.:1.800                                                           \n",
       " Max.   :6.200                                                           \n",
       "         AHD     \n",
       " <50% diam.:123  \n",
       " >50% diam.:114  \n",
       "                 \n",
       "                 \n",
       "                 \n",
       "                 "
      ]
     },
     "metadata": {},
     "output_type": "display_data"
    },
    {
     "data": {
      "text/plain": [
       "      Age            Sex            ChestPain      RestBP           Chol      \n",
       " Min.   :34.00   female:22   asymptomatic:31   Min.   :100.0   Min.   :160.0  \n",
       " 1st Qu.:49.00   male  :38   nonanginal  :14   1st Qu.:120.0   1st Qu.:210.8  \n",
       " Median :55.00               nontypical  :13   Median :130.0   Median :242.0  \n",
       " Mean   :54.67               typical     : 2   Mean   :131.2   Mean   :248.1  \n",
       " 3rd Qu.:60.00                                 3rd Qu.:140.0   3rd Qu.:276.0  \n",
       " Max.   :71.00                                 Max.   :172.0   Max.   :354.0  \n",
       "    Fbs            RestECG       MaxHR       ExAng       Oldpeak      \n",
       " false:45   normal     :33   Min.   : 88.0   no :39   Min.   :0.0000  \n",
       " true :15   stt        : 0   1st Qu.:132.8   yes:21   1st Qu.:0.0000  \n",
       "            hypertrophy:27   Median :153.5            Median :0.6500  \n",
       "                             Mean   :147.4            Mean   :0.9117  \n",
       "                             3rd Qu.:166.0            3rd Qu.:1.4500  \n",
       "                             Max.   :192.0            Max.   :3.1000  \n",
       "         Slope                  Ca             Thal            AHD    \n",
       " upsloping  :33   0 major vessels:41   fixed     : 3   <50% diam.:37  \n",
       " flat       :26   1 major vessel : 9   normal    :34   >50% diam.:23  \n",
       " downsloping: 1   2 major vessels: 7   reversable:23                  \n",
       "                  3 major vessels: 3                                  \n",
       "                                                                      \n",
       "                                                                      "
      ]
     },
     "metadata": {},
     "output_type": "display_data"
    }
   ],
   "source": [
    "### Train & Test Data Sets\n",
    "set.seed(123)\n",
    "s <- sample(1:nrow(heart1), nrow(heart1)*0.8,)\n",
    "train <- heart1[s,]\n",
    "test <- heart1[-s,]\n",
    "summary(train) \n",
    "summary(test)"
   ]
  },
  {
   "cell_type": "code",
   "execution_count": 14,
   "metadata": {},
   "outputs": [],
   "source": [
    "### Accuracy Function for models   \n",
    "acc <- function(x){\n",
    "  w <- sum(diag(x))/ sum(x)*100\n",
    "  return(w)\n",
    "}"
   ]
  },
  {
   "cell_type": "code",
   "execution_count": 15,
   "metadata": {},
   "outputs": [
    {
     "name": "stderr",
     "output_type": "stream",
     "text": [
      "-- Attaching packages --------------------------------------- tidyverse 1.2.1 --\n",
      "v tibble  1.4.2     v purrr   0.2.5\n",
      "v tidyr   0.8.1     v dplyr   0.7.6\n",
      "v readr   1.1.1     v stringr 1.3.1\n",
      "v tibble  1.4.2     v forcats 0.3.0\n",
      "-- Conflicts ------------------------------------------ tidyverse_conflicts() --\n",
      "x dplyr::filter() masks stats::filter()\n",
      "x dplyr::lag()    masks stats::lag()\n",
      "Type 'citation(\"pROC\")' for a citation.\n",
      "\n",
      "Attaching package: 'pROC'\n",
      "\n",
      "The following objects are masked from 'package:stats':\n",
      "\n",
      "    cov, smooth, var\n",
      "\n"
     ]
    },
    {
     "data": {
      "text/plain": [
       "\n",
       "Call:\n",
       "glm(formula = AHD ~ Age, family = \"binomial\", data = train)\n",
       "\n",
       "Deviance Residuals: \n",
       "    Min       1Q   Median       3Q      Max  \n",
       "-1.6209  -1.1111  -0.8038   1.1378   1.6499  \n",
       "\n",
       "Coefficients:\n",
       "            Estimate Std. Error z value Pr(>|z|)    \n",
       "(Intercept) -2.82791    0.82708  -3.419 0.000628 ***\n",
       "Age          0.05038    0.01490   3.380 0.000724 ***\n",
       "---\n",
       "Signif. codes:  0 '***' 0.001 '**' 0.01 '*' 0.05 '.' 0.1 ' ' 1\n",
       "\n",
       "(Dispersion parameter for binomial family taken to be 1)\n",
       "\n",
       "    Null deviance: 328.21  on 236  degrees of freedom\n",
       "Residual deviance: 316.04  on 235  degrees of freedom\n",
       "AIC: 320.04\n",
       "\n",
       "Number of Fisher Scoring iterations: 4\n"
      ]
     },
     "metadata": {},
     "output_type": "display_data"
    },
    {
     "data": {
      "text/plain": [
       "    Actual\n",
       "Pred <50% diam. >50% diam.\n",
       "   0         78         46\n",
       "   1         45         68"
      ]
     },
     "metadata": {},
     "output_type": "display_data"
    },
    {
     "data": {
      "text/plain": [
       "\n",
       "Call:\n",
       "glm(formula = AHD ~ Sex, family = \"binomial\", data = train)\n",
       "\n",
       "Deviance Residuals: \n",
       "    Min       1Q   Median       3Q      Max  \n",
       "-1.3335  -1.3335  -0.7466   1.0290   1.6815  \n",
       "\n",
       "Coefficients:\n",
       "            Estimate Std. Error z value Pr(>|z|)    \n",
       "(Intercept)  -1.1350     0.2709  -4.189 2.80e-05 ***\n",
       "Sexmale       1.4946     0.3143   4.756 1.97e-06 ***\n",
       "---\n",
       "Signif. codes:  0 '***' 0.001 '**' 0.01 '*' 0.05 '.' 0.1 ' ' 1\n",
       "\n",
       "(Dispersion parameter for binomial family taken to be 1)\n",
       "\n",
       "    Null deviance: 328.21  on 236  degrees of freedom\n",
       "Residual deviance: 302.89  on 235  degrees of freedom\n",
       "AIC: 306.89\n",
       "\n",
       "Number of Fisher Scoring iterations: 4\n"
      ]
     },
     "metadata": {},
     "output_type": "display_data"
    },
    {
     "data": {
      "image/png": "[encoded data removed]",
      "text/plain": [
       "Plot with title \"Age\""
      ]
     },
     "metadata": {},
     "output_type": "display_data"
    },
    {
     "data": {
      "text/plain": [
       "    Actual\n",
       "Pred <50% diam. >50% diam.\n",
       "   0         56         18\n",
       "   1         67         96"
      ]
     },
     "metadata": {},
     "output_type": "display_data"
    },
    {
     "data": {
      "text/plain": [
       "\n",
       "Call:\n",
       "glm(formula = AHD ~ ChestPain, family = \"binomial\", data = train)\n",
       "\n",
       "Deviance Residuals: \n",
       "    Min       1Q   Median       3Q      Max  \n",
       "-1.6176  -0.7585  -0.7521   0.7938   1.6739  \n",
       "\n",
       "Coefficients:\n",
       "                    Estimate Std. Error z value Pr(>|z|)    \n",
       "(Intercept)           0.9933     0.2137   4.647 3.36e-06 ***\n",
       "ChestPainnonanginal  -2.1113     0.3518  -6.002 1.95e-09 ***\n",
       "ChestPainnontypical  -2.0919     0.4403  -4.751 2.02e-06 ***\n",
       "ChestPaintypical     -1.6864     0.5099  -3.308 0.000941 ***\n",
       "---\n",
       "Signif. codes:  0 '***' 0.001 '**' 0.01 '*' 0.05 '.' 0.1 ' ' 1\n",
       "\n",
       "(Dispersion parameter for binomial family taken to be 1)\n",
       "\n",
       "    Null deviance: 328.21  on 236  degrees of freedom\n",
       "Residual deviance: 273.81  on 233  degrees of freedom\n",
       "AIC: 281.81\n",
       "\n",
       "Number of Fisher Scoring iterations: 4\n"
      ]
     },
     "metadata": {},
     "output_type": "display_data"
    },
    {
     "data": {
      "image/png": "[encoded data removed]",
      "text/plain": [
       "Plot with title \"Sex\""
      ]
     },
     "metadata": {},
     "output_type": "display_data"
    },
    {
     "data": {
      "text/plain": [
       "    Actual\n",
       "Pred <50% diam. >50% diam.\n",
       "   0         93         33\n",
       "   1         30         81"
      ]
     },
     "metadata": {},
     "output_type": "display_data"
    },
    {
     "data": {
      "text/plain": [
       "\n",
       "Call:\n",
       "glm(formula = AHD ~ RestBP, family = \"binomial\", data = train)\n",
       "\n",
       "Deviance Residuals: \n",
       "    Min       1Q   Median       3Q      Max  \n",
       "-1.4689  -1.1335  -0.9605   1.2088   1.4247  \n",
       "\n",
       "Coefficients:\n",
       "             Estimate Std. Error z value Pr(>|z|)  \n",
       "(Intercept) -2.100216   0.966603  -2.173   0.0298 *\n",
       "RestBP       0.015354   0.007267   2.113   0.0346 *\n",
       "---\n",
       "Signif. codes:  0 '***' 0.001 '**' 0.01 '*' 0.05 '.' 0.1 ' ' 1\n",
       "\n",
       "(Dispersion parameter for binomial family taken to be 1)\n",
       "\n",
       "    Null deviance: 328.21  on 236  degrees of freedom\n",
       "Residual deviance: 323.60  on 235  degrees of freedom\n",
       "AIC: 327.6\n",
       "\n",
       "Number of Fisher Scoring iterations: 4\n"
      ]
     },
     "metadata": {},
     "output_type": "display_data"
    },
    {
     "data": {
      "image/png": "[encoded data removed]",
      "text/plain": [
       "Plot with title \"ChestPain\""
      ]
     },
     "metadata": {},
     "output_type": "display_data"
    },
    {
     "data": {
      "text/plain": [
       "    Actual\n",
       "Pred <50% diam. >50% diam.\n",
       "   0         82         66\n",
       "   1         41         48"
      ]
     },
     "metadata": {},
     "output_type": "display_data"
    },
    {
     "data": {
      "text/plain": [
       "\n",
       "Call:\n",
       "glm(formula = AHD ~ Chol, family = \"binomial\", data = train)\n",
       "\n",
       "Deviance Residuals: \n",
       "   Min      1Q  Median      3Q     Max  \n",
       "-1.393  -1.140  -1.086   1.205   1.301  \n",
       "\n",
       "Coefficients:\n",
       "             Estimate Std. Error z value Pr(>|z|)\n",
       "(Intercept) -0.520826   0.624475  -0.834    0.404\n",
       "Chol         0.001800   0.002471   0.728    0.466\n",
       "\n",
       "(Dispersion parameter for binomial family taken to be 1)\n",
       "\n",
       "    Null deviance: 328.21  on 236  degrees of freedom\n",
       "Residual deviance: 327.68  on 235  degrees of freedom\n",
       "AIC: 331.68\n",
       "\n",
       "Number of Fisher Scoring iterations: 3\n"
      ]
     },
     "metadata": {},
     "output_type": "display_data"
    },
    {
     "data": {
      "image/png": "[encoded data removed]",
      "text/plain": [
       "Plot with title \"RestBP\""
      ]
     },
     "metadata": {},
     "output_type": "display_data"
    },
    {
     "data": {
      "text/plain": [
       "    Actual\n",
       "Pred <50% diam. >50% diam.\n",
       "   0        102         93\n",
       "   1         21         21"
      ]
     },
     "metadata": {},
     "output_type": "display_data"
    },
    {
     "data": {
      "text/plain": [
       "\n",
       "Call:\n",
       "glm(formula = AHD ~ Fbs, family = \"binomial\", data = train)\n",
       "\n",
       "Deviance Residuals: \n",
       "   Min      1Q  Median      3Q     Max  \n",
       "-1.177  -1.141  -1.141   1.214   1.214  \n",
       "\n",
       "Coefficients:\n",
       "            Estimate Std. Error z value Pr(>|z|)\n",
       "(Intercept) -0.08618    0.13847  -0.622    0.534\n",
       "Fbstrue      0.08618    0.40253   0.214    0.830\n",
       "\n",
       "(Dispersion parameter for binomial family taken to be 1)\n",
       "\n",
       "    Null deviance: 328.21  on 236  degrees of freedom\n",
       "Residual deviance: 328.16  on 235  degrees of freedom\n",
       "AIC: 332.16\n",
       "\n",
       "Number of Fisher Scoring iterations: 3\n"
      ]
     },
     "metadata": {},
     "output_type": "display_data"
    },
    {
     "data": {
      "image/png": "[encoded data removed]",
      "text/plain": [
       "Plot with title \"Chol\""
      ]
     },
     "metadata": {},
     "output_type": "display_data"
    },
    {
     "data": {
      "text/plain": [
       "    Actual\n",
       "Pred <50% diam. >50% diam.\n",
       "   0        123        114"
      ]
     },
     "metadata": {},
     "output_type": "display_data"
    },
    {
     "data": {
      "text/plain": [
       "\n",
       "Call:\n",
       "glm(formula = AHD ~ RestECG, family = \"binomial\", data = train)\n",
       "\n",
       "Deviance Residuals: \n",
       "   Min      1Q  Median      3Q     Max  \n",
       "-1.665  -1.031  -1.031   1.114   1.331  \n",
       "\n",
       "Coefficients:\n",
       "                   Estimate Std. Error z value Pr(>|z|)  \n",
       "(Intercept)         -0.3545     0.1903  -1.863   0.0624 .\n",
       "RestECGstt           1.4532     1.1703   1.242   0.2143  \n",
       "RestECGhypertrophy   0.5061     0.2646   1.913   0.0558 .\n",
       "---\n",
       "Signif. codes:  0 '***' 0.001 '**' 0.01 '*' 0.05 '.' 0.1 ' ' 1\n",
       "\n",
       "(Dispersion parameter for binomial family taken to be 1)\n",
       "\n",
       "    Null deviance: 328.21  on 236  degrees of freedom\n",
       "Residual deviance: 323.30  on 234  degrees of freedom\n",
       "AIC: 329.3\n",
       "\n",
       "Number of Fisher Scoring iterations: 4\n"
      ]
     },
     "metadata": {},
     "output_type": "display_data"
    },
    {
     "data": {
      "image/png": "[encoded data removed]",
      "text/plain": [
       "Plot with title \"Fbs\""
      ]
     },
     "metadata": {},
     "output_type": "display_data"
    },
    {
     "data": {
      "text/plain": [
       "    Actual\n",
       "Pred <50% diam. >50% diam.\n",
       "   0         67         47\n",
       "   1         56         67"
      ]
     },
     "metadata": {},
     "output_type": "display_data"
    },
    {
     "data": {
      "text/plain": [
       "\n",
       "Call:\n",
       "glm(formula = AHD ~ MaxHR, family = \"binomial\", data = train)\n",
       "\n",
       "Deviance Residuals: \n",
       "   Min      1Q  Median      3Q     Max  \n",
       "-1.999  -0.979  -0.597   1.061   2.052  \n",
       "\n",
       "Coefficients:\n",
       "             Estimate Std. Error z value Pr(>|z|)    \n",
       "(Intercept)  6.317145   1.129113   5.595 2.21e-08 ***\n",
       "MaxHR       -0.042522   0.007424  -5.728 1.02e-08 ***\n",
       "---\n",
       "Signif. codes:  0 '***' 0.001 '**' 0.01 '*' 0.05 '.' 0.1 ' ' 1\n",
       "\n",
       "(Dispersion parameter for binomial family taken to be 1)\n",
       "\n",
       "    Null deviance: 328.21  on 236  degrees of freedom\n",
       "Residual deviance: 286.97  on 235  degrees of freedom\n",
       "AIC: 290.97\n",
       "\n",
       "Number of Fisher Scoring iterations: 4\n"
      ]
     },
     "metadata": {},
     "output_type": "display_data"
    },
    {
     "data": {
      "image/png": "[encoded data removed]",
      "text/plain": [
       "Plot with title \"RestECG\""
      ]
     },
     "metadata": {},
     "output_type": "display_data"
    },
    {
     "data": {
      "text/plain": [
       "    Actual\n",
       "Pred <50% diam. >50% diam.\n",
       "   0         94         43\n",
       "   1         29         71"
      ]
     },
     "metadata": {},
     "output_type": "display_data"
    },
    {
     "data": {
      "text/plain": [
       "\n",
       "Call:\n",
       "glm(formula = AHD ~ ExAng, family = \"binomial\", data = train)\n",
       "\n",
       "Deviance Residuals: \n",
       "    Min       1Q   Median       3Q      Max  \n",
       "-1.7653  -0.9040  -0.9040   0.6876   1.4781  \n",
       "\n",
       "Coefficients:\n",
       "            Estimate Std. Error z value Pr(>|z|)    \n",
       "(Intercept)  -0.6838     0.1669  -4.097 4.19e-05 ***\n",
       "ExAngyes      2.0056     0.3272   6.130 8.77e-10 ***\n",
       "---\n",
       "Signif. codes:  0 '***' 0.001 '**' 0.01 '*' 0.05 '.' 0.1 ' ' 1\n",
       "\n",
       "(Dispersion parameter for binomial family taken to be 1)\n",
       "\n",
       "    Null deviance: 328.21  on 236  degrees of freedom\n",
       "Residual deviance: 283.64  on 235  degrees of freedom\n",
       "AIC: 287.64\n",
       "\n",
       "Number of Fisher Scoring iterations: 4\n"
      ]
     },
     "metadata": {},
     "output_type": "display_data"
    },
    {
     "data": {
      "image/png": "[encoded data removed]",
      "text/plain": [
       "Plot with title \"Max HR\""
      ]
     },
     "metadata": {},
     "output_type": "display_data"
    },
    {
     "data": {
      "text/plain": [
       "    Actual\n",
       "Pred <50% diam. >50% diam.\n",
       "   0        107         54\n",
       "   1         16         60"
      ]
     },
     "metadata": {},
     "output_type": "display_data"
    },
    {
     "data": {
      "text/plain": [
       "\n",
       "Call:\n",
       "glm(formula = AHD ~ Oldpeak, family = \"binomial\", data = train)\n",
       "\n",
       "Deviance Residuals: \n",
       "    Min       1Q   Median       3Q      Max  \n",
       "-2.3441  -0.8642  -0.8031   1.0383   1.6054  \n",
       "\n",
       "Coefficients:\n",
       "            Estimate Std. Error z value Pr(>|z|)    \n",
       "(Intercept)  -0.9662     0.1986  -4.864 1.15e-06 ***\n",
       "Oldpeak       0.8685     0.1486   5.845 5.08e-09 ***\n",
       "---\n",
       "Signif. codes:  0 '***' 0.001 '**' 0.01 '*' 0.05 '.' 0.1 ' ' 1\n",
       "\n",
       "(Dispersion parameter for binomial family taken to be 1)\n",
       "\n",
       "    Null deviance: 328.21  on 236  degrees of freedom\n",
       "Residual deviance: 281.78  on 235  degrees of freedom\n",
       "AIC: 285.78\n",
       "\n",
       "Number of Fisher Scoring iterations: 4\n"
      ]
     },
     "metadata": {},
     "output_type": "display_data"
    },
    {
     "data": {
      "image/png": "[encoded data removed]",
      "text/plain": [
       "Plot with title \"ExAng\""
      ]
     },
     "metadata": {},
     "output_type": "display_data"
    },
    {
     "data": {
      "text/plain": [
       "    Actual\n",
       "Pred <50% diam. >50% diam.\n",
       "   0         94         47\n",
       "   1         29         67"
      ]
     },
     "metadata": {},
     "output_type": "display_data"
    },
    {
     "data": {
      "text/plain": [
       "\n",
       "Call:\n",
       "glm(formula = AHD ~ Slope, family = \"binomial\", data = train)\n",
       "\n",
       "Deviance Residuals: \n",
       "    Min       1Q   Median       3Q      Max  \n",
       "-1.5007  -0.7832  -0.7832   0.8855   1.6317  \n",
       "\n",
       "Coefficients:\n",
       "                 Estimate Std. Error z value Pr(>|z|)    \n",
       "(Intercept)       -1.0245     0.2203  -4.650 3.31e-06 ***\n",
       "Slopeflat          1.7585     0.2994   5.873 4.28e-09 ***\n",
       "Slopedownsloping   1.2252     0.5006   2.448   0.0144 *  \n",
       "---\n",
       "Signif. codes:  0 '***' 0.001 '**' 0.01 '*' 0.05 '.' 0.1 ' ' 1\n",
       "\n",
       "(Dispersion parameter for binomial family taken to be 1)\n",
       "\n",
       "    Null deviance: 328.21  on 236  degrees of freedom\n",
       "Residual deviance: 289.80  on 234  degrees of freedom\n",
       "AIC: 295.8\n",
       "\n",
       "Number of Fisher Scoring iterations: 4\n"
      ]
     },
     "metadata": {},
     "output_type": "display_data"
    },
    {
     "data": {
      "image/png": "[encoded data removed]",
      "text/plain": [
       "Plot with title \"Oldpeak\""
      ]
     },
     "metadata": {},
     "output_type": "display_data"
    },
    {
     "data": {
      "text/plain": [
       "    Actual\n",
       "Pred <50% diam. >50% diam.\n",
       "   0         78         28\n",
       "   1         45         86"
      ]
     },
     "metadata": {},
     "output_type": "display_data"
    },
    {
     "data": {
      "text/plain": [
       "\n",
       "Call:\n",
       "glm(formula = AHD ~ Ca, family = \"binomial\", data = train)\n",
       "\n",
       "Deviance Residuals: \n",
       "    Min       1Q   Median       3Q      Max  \n",
       "-1.9103  -0.8075  -0.8075   0.9104   1.5996  \n",
       "\n",
       "Coefficients:\n",
       "                  Estimate Std. Error z value Pr(>|z|)    \n",
       "(Intercept)        -0.9534     0.1935  -4.927 8.34e-07 ***\n",
       "Ca1 major vessel    1.6199     0.3422   4.734 2.20e-06 ***\n",
       "Ca2 major vessels   2.6021     0.5253   4.954 7.28e-07 ***\n",
       "Ca3 major vessels   2.4939     0.6650   3.750 0.000177 ***\n",
       "---\n",
       "Signif. codes:  0 '***' 0.001 '**' 0.01 '*' 0.05 '.' 0.1 ' ' 1\n",
       "\n",
       "(Dispersion parameter for binomial family taken to be 1)\n",
       "\n",
       "    Null deviance: 328.21  on 236  degrees of freedom\n",
       "Residual deviance: 272.25  on 233  degrees of freedom\n",
       "AIC: 280.25\n",
       "\n",
       "Number of Fisher Scoring iterations: 4\n"
      ]
     },
     "metadata": {},
     "output_type": "display_data"
    },
    {
     "data": {
      "image/png": "[encoded data removed]",
      "text/plain": [
       "Plot with title \"Slope\""
      ]
     },
     "metadata": {},
     "output_type": "display_data"
    },
    {
     "data": {
      "text/plain": [
       "    Actual\n",
       "Pred <50% diam. >50% diam.\n",
       "   0         96         37\n",
       "   1         27         77"
      ]
     },
     "metadata": {},
     "output_type": "display_data"
    },
    {
     "data": {
      "text/plain": [
       "\n",
       "Call:\n",
       "glm(formula = AHD ~ Thal, family = \"binomial\", data = train)\n",
       "\n",
       "Deviance Residuals: \n",
       "    Min       1Q   Median       3Q      Max  \n",
       "-1.7189  -0.7653  -0.7653   0.7199   1.6559  \n",
       "\n",
       "Coefficients:\n",
       "               Estimate Std. Error z value Pr(>|z|)   \n",
       "(Intercept)      0.6931     0.5477   1.266   0.2057   \n",
       "Thalnormal      -1.7714     0.5836  -3.035   0.0024 **\n",
       "Thalreversable   0.5250     0.6014   0.873   0.3827   \n",
       "---\n",
       "Signif. codes:  0 '***' 0.001 '**' 0.01 '*' 0.05 '.' 0.1 ' ' 1\n",
       "\n",
       "(Dispersion parameter for binomial family taken to be 1)\n",
       "\n",
       "    Null deviance: 328.21  on 236  degrees of freedom\n",
       "Residual deviance: 265.23  on 234  degrees of freedom\n",
       "AIC: 271.23\n",
       "\n",
       "Number of Fisher Scoring iterations: 4\n"
      ]
     },
     "metadata": {},
     "output_type": "display_data"
    },
    {
     "data": {
      "image/png": "[encoded data removed]",
      "text/plain": [
       "Plot with title \"Ca\""
      ]
     },
     "metadata": {},
     "output_type": "display_data"
    },
    {
     "data": {
      "text/plain": [
       "    Actual\n",
       "Pred <50% diam. >50% diam.\n",
       "   0         97         33\n",
       "   1         26         81"
      ]
     },
     "metadata": {},
     "output_type": "display_data"
    },
    {
     "data": {
      "image/png": "[encoded data removed]",
      "text/plain": [
       "Plot with title \"Thal\""
      ]
     },
     "metadata": {},
     "output_type": "display_data"
    }
   ],
   "source": [
    "### Individual logistic regression\n",
    "library(tidyverse)\n",
    "library(broom)\n",
    "library(pROC)\n",
    "trainAge <- glm(AHD ~ Age, data=train, family='binomial') \n",
    "summary(trainAge)\n",
    "pred_age <- predict(trainAge, train, type = \"response\")\n",
    "roccurve_age <- roc(train$AHD ~ pred_age)\n",
    "plot(roccurve_age, main = \"Age\")\n",
    "pred2_age <- ifelse(pred_age > 0.5, 1,0)\n",
    "tab_age <- table(Pred = pred2_age, Actual = train$AHD)\n",
    "tab_age\n",
    "##############\n",
    "trainSex <- glm(AHD ~ Sex, data=train, family='binomial') \n",
    "summary(trainSex)\n",
    "pred_sex <- predict(trainSex, train, type = \"response\")\n",
    "roccurve_sex <- roc(train$AHD ~ pred_sex)\n",
    "plot(roccurve_sex, main = \"Sex\")\n",
    "pred2_sex <- ifelse(pred_sex > 0.5, 1,0)\n",
    "tab_sex <- table(Pred = pred2_sex, Actual = train$AHD)\n",
    "tab_sex \n",
    "##############\n",
    "trainChestPain <- glm(AHD ~ ChestPain, data=train, family='binomial') \n",
    "summary(trainChestPain)\n",
    "pred_cp <- predict(trainChestPain, train, type = \"response\")\n",
    "roccurve_cp <- roc(train$AHD ~ pred_cp)\n",
    "plot(roccurve_cp, main = \"ChestPain\")\n",
    "pred2_cp <- ifelse(pred_cp > 0.5, 1,0)\n",
    "tab_cp <- table(Pred = pred2_cp, Actual = train$AHD)\n",
    "tab_cp\n",
    "##############\n",
    "trainRestBP <- glm(AHD ~ RestBP, data=train, family='binomial') \n",
    "summary(trainRestBP)\n",
    "pred_rbp <- predict(trainRestBP, train, type = \"response\")\n",
    "roccurve_rbp <- roc(train$AHD ~ pred_rbp)\n",
    "plot(roccurve_rbp, main = \"RestBP\")\n",
    "pred2_rbp <- ifelse(pred_rbp > 0.5, 1,0)\n",
    "tab_rbp <- table(Pred = pred2_rbp, Actual = train$AHD)\n",
    "tab_rbp\n",
    "##############\n",
    "trainChol <- glm(AHD ~ Chol, data=train, family='binomial') \n",
    "summary(trainChol)\n",
    "pred_chol <- predict(trainChol, train, type = \"response\")\n",
    "roccurve_chol <- roc(train$AHD ~ pred_chol)\n",
    "plot(roccurve_chol, main = \"Chol\")\n",
    "pred2_chol <- ifelse(pred_chol > 0.5, 1,0)\n",
    "tab_chol <- table(Pred = pred2_chol, Actual = train$AHD)\n",
    "tab_chol \n",
    "##############\n",
    "trainFbs <- glm(AHD ~ Fbs, data=train, family='binomial') \n",
    "summary(trainFbs)\n",
    "pred_fbs <- predict(trainFbs, train, type = \"response\")\n",
    "roccurve_fbs <- roc(train$AHD ~ pred_fbs)\n",
    "plot(roccurve_fbs, main = \"Fbs\")\n",
    "pred2_fbs <- ifelse(pred_fbs > 0.5, 1,0)\n",
    "tab_fbs <- table(Pred = pred2_fbs, Actual = train$AHD)\n",
    "tab_fbs \n",
    "##############\n",
    "trainRestECG <- glm(AHD ~ RestECG, data=train, family='binomial') \n",
    "summary(trainRestECG)\n",
    "pred_ecg <- predict(trainRestECG, train, type = \"response\")\n",
    "roccurve_ecg <- roc(train$AHD ~ pred_ecg)\n",
    "plot(roccurve_ecg, main = \"RestECG\")\n",
    "pred2_ecg <- ifelse(pred_ecg > 0.5, 1,0)\n",
    "tab_ecg <- table(Pred = pred2_ecg, Actual = train$AHD)\n",
    "tab_ecg \n",
    "##############\n",
    "trainMaxHR <- glm(AHD ~ MaxHR, data=train, family='binomial') \n",
    "summary(trainMaxHR)\n",
    "pred_hr <- predict(trainMaxHR, train, type = \"response\")\n",
    "roccurve_hr <- roc(train$AHD ~ pred_hr)\n",
    "plot(roccurve_hr, main = \"Max HR\")\n",
    "pred2_hr <- ifelse(pred_hr > 0.5, 1,0)\n",
    "tab_hr <- table(Pred = pred2_hr, Actual = train$AHD)\n",
    "tab_hr \n",
    "##############\n",
    "trainExAng <- glm(AHD ~ ExAng, data=train, family='binomial') \n",
    "summary(trainExAng)\n",
    "pred_ang <- predict(trainExAng, train, type = \"response\")\n",
    "roccurve_ang <- roc(train$AHD ~ pred_ang)\n",
    "plot(roccurve_ang, main = \"ExAng\")\n",
    "pred2_ang <- ifelse(pred_ang > 0.5, 1,0)\n",
    "tab_ang <- table(Pred = pred2_ang, Actual = train$AHD)\n",
    "tab_ang \n",
    "##############\n",
    "trainOldpeak <- glm(AHD ~ Oldpeak, data=train, family='binomial') \n",
    "summary(trainOldpeak)\n",
    "pred_op <- predict(trainOldpeak, train, type = \"response\")\n",
    "roccurve_op <- roc(train$AHD ~ pred_op)\n",
    "plot(roccurve_op, main = \"Oldpeak\")\n",
    "pred2_op <- ifelse(pred_op > 0.5, 1,0)\n",
    "tab_op <- table(Pred = pred2_op, Actual = train$AHD)\n",
    "tab_op \n",
    "##############\n",
    "trainSlope <- glm(AHD ~ Slope, data=train, family='binomial') \n",
    "summary(trainSlope)\n",
    "pred_sp <- predict(trainSlope, train, type = \"response\")\n",
    "roccurve_sp <- roc(train$AHD ~ pred_sp)\n",
    "plot(roccurve_sp, main = \"Slope\")\n",
    "pred2_sp <- ifelse(pred_sp > 0.5, 1,0)\n",
    "tab_sp <- table(Pred = pred2_sp, Actual = train$AHD)\n",
    "tab_sp \n",
    "##############\n",
    "trainCa <- glm(AHD ~ Ca, data=train, family='binomial') \n",
    "summary(trainCa)\n",
    "pred_ca <- predict(trainCa, train, type = \"response\")\n",
    "roccurve_ca <- roc(train$AHD ~ pred_ca)\n",
    "plot(roccurve_ca, main = \"Ca\")\n",
    "pred2_ca <- ifelse(pred_ca > 0.5, 1,0)\n",
    "tab_ca <- table(Pred = pred2_ca, Actual = train$AHD)\n",
    "tab_ca \n",
    "##############\n",
    "trainThal <- glm(AHD ~ Thal, data=train, family='binomial') \n",
    "summary(trainThal)\n",
    "pred_t <- predict(trainThal, train, type = \"response\")\n",
    "roccurve_t <- roc(train$AHD ~ pred_t)\n",
    "plot(roccurve_t, main = \"Thal\")\n",
    "pred2_t <- ifelse(pred_t > 0.5, 1,0)\n",
    "tab_t <- table(Pred = pred2_t, Actual = train$AHD)\n",
    "tab_t "
   ]
  },
  {
   "cell_type": "code",
   "execution_count": 16,
   "metadata": {},
   "outputs": [
    {
     "data": {
      "text/plain": [
       "\n",
       "Call:\n",
       "glm(formula = AHD ~ ., family = \"binomial\", data = train)\n",
       "\n",
       "Deviance Residuals: \n",
       "     Min        1Q    Median        3Q       Max  \n",
       "-2.99925  -0.48213  -0.07463   0.32329   2.78268  \n",
       "\n",
       "Coefficients:\n",
       "                     Estimate Std. Error z value Pr(>|z|)    \n",
       "(Intercept)         -5.030533   3.076284  -1.635 0.101994    \n",
       "Age                 -0.017435   0.027798  -0.627 0.530529    \n",
       "Sexmale              2.204728   0.642642   3.431 0.000602 ***\n",
       "ChestPainnonanginal -1.749436   0.567086  -3.085 0.002036 ** \n",
       "ChestPainnontypical -0.477396   0.618606  -0.772 0.440276    \n",
       "ChestPaintypical    -2.285238   0.754624  -3.028 0.002459 ** \n",
       "RestBP               0.026808   0.012699   2.111 0.034777 *  \n",
       "Chol                 0.002069   0.004606   0.449 0.653226    \n",
       "Fbstrue             -0.385481   0.686523  -0.561 0.574458    \n",
       "RestECGstt           1.238269   2.296952   0.539 0.589823    \n",
       "RestECGhypertrophy   0.273001   0.436223   0.626 0.531427    \n",
       "MaxHR               -0.014717   0.012657  -1.163 0.244941    \n",
       "ExAngyes             0.837018   0.497097   1.684 0.092218 .  \n",
       "Oldpeak              0.337001   0.248782   1.355 0.175543    \n",
       "Slopeflat            1.582824   0.549587   2.880 0.003976 ** \n",
       "Slopedownsloping     0.600006   0.927612   0.647 0.517743    \n",
       "Ca1 major vessel     1.946410   0.550077   3.538 0.000403 ***\n",
       "Ca2 major vessels    3.540357   0.896848   3.948  7.9e-05 ***\n",
       "Ca3 major vessels    2.015544   0.953616   2.114 0.034551 *  \n",
       "Thalnormal           0.382949   0.877964   0.436 0.662707    \n",
       "Thalreversable       1.564187   0.873863   1.790 0.073459 .  \n",
       "---\n",
       "Signif. codes:  0 '***' 0.001 '**' 0.01 '*' 0.05 '.' 0.1 ' ' 1\n",
       "\n",
       "(Dispersion parameter for binomial family taken to be 1)\n",
       "\n",
       "    Null deviance: 328.21  on 236  degrees of freedom\n",
       "Residual deviance: 152.22  on 216  degrees of freedom\n",
       "AIC: 194.22\n",
       "\n",
       "Number of Fisher Scoring iterations: 6\n"
      ]
     },
     "metadata": {},
     "output_type": "display_data"
    },
    {
     "name": "stdout",
     "output_type": "stream",
     "text": [
      "Start:  AIC=194.22\n",
      "AHD ~ Age + Sex + ChestPain + RestBP + Chol + Fbs + RestECG + \n",
      "    MaxHR + ExAng + Oldpeak + Slope + Ca + Thal\n",
      "\n",
      "            Df Deviance    AIC\n",
      "- RestECG    2   152.85 190.85\n",
      "- Chol       1   152.41 192.41\n",
      "- Fbs        1   152.53 192.53\n",
      "- Age        1   152.61 192.61\n",
      "- MaxHR      1   153.61 193.61\n",
      "- Oldpeak    1   154.13 194.13\n",
      "<none>           152.22 194.22\n",
      "- ExAng      1   155.06 195.06\n",
      "- RestBP     1   156.92 196.92\n",
      "- Thal       2   159.89 197.89\n",
      "- Slope      2   161.55 199.55\n",
      "- ChestPain  3   167.87 203.87\n",
      "- Sex        1   165.82 205.82\n",
      "- Ca         3   180.99 216.99\n",
      "\n",
      "Step:  AIC=190.85\n",
      "AHD ~ Age + Sex + ChestPain + RestBP + Chol + Fbs + MaxHR + ExAng + \n",
      "    Oldpeak + Slope + Ca + Thal\n",
      "\n",
      "            Df Deviance    AIC\n",
      "- Age        1   153.17 189.17\n",
      "- Chol       1   153.21 189.21\n",
      "- Fbs        1   153.23 189.23\n",
      "- MaxHR      1   154.35 190.35\n",
      "<none>           152.85 190.85\n",
      "- Oldpeak    1   154.90 190.90\n",
      "- ExAng      1   155.62 191.62\n",
      "- RestBP     1   158.19 194.19\n",
      "- Thal       2   160.35 194.35\n",
      "- Slope      2   162.38 196.38\n",
      "- ChestPain  3   168.35 200.35\n",
      "- Sex        1   166.89 202.89\n",
      "- Ca         3   181.49 213.49\n",
      "\n",
      "Step:  AIC=189.17\n",
      "AHD ~ Sex + ChestPain + RestBP + Chol + Fbs + MaxHR + ExAng + \n",
      "    Oldpeak + Slope + Ca + Thal\n",
      "\n",
      "            Df Deviance    AIC\n",
      "- Chol       1   153.44 187.44\n",
      "- Fbs        1   153.56 187.56\n",
      "- MaxHR      1   154.37 188.37\n",
      "<none>           153.17 189.17\n",
      "- Oldpeak    1   155.45 189.45\n",
      "- ExAng      1   155.88 189.88\n",
      "- RestBP     1   158.20 192.20\n",
      "- Thal       2   160.63 192.63\n",
      "- Slope      2   162.40 194.40\n",
      "- ChestPain  3   168.99 198.99\n",
      "- Sex        1   167.86 201.86\n",
      "- Ca         3   183.41 213.41\n",
      "\n",
      "Step:  AIC=187.44\n",
      "AHD ~ Sex + ChestPain + RestBP + Fbs + MaxHR + ExAng + Oldpeak + \n",
      "    Slope + Ca + Thal\n",
      "\n",
      "            Df Deviance    AIC\n",
      "- Fbs        1   153.82 185.82\n",
      "- MaxHR      1   154.56 186.56\n",
      "<none>           153.44 187.44\n",
      "- Oldpeak    1   155.76 187.76\n",
      "- ExAng      1   156.16 188.16\n",
      "- RestBP     1   158.65 190.65\n",
      "- Thal       2   161.08 191.08\n",
      "- Slope      2   162.97 192.97\n",
      "- ChestPain  3   169.71 197.71\n",
      "- Sex        1   167.90 199.90\n",
      "- Ca         3   183.98 211.98\n",
      "\n",
      "Step:  AIC=185.82\n",
      "AHD ~ Sex + ChestPain + RestBP + MaxHR + ExAng + Oldpeak + Slope + \n",
      "    Ca + Thal\n",
      "\n",
      "            Df Deviance    AIC\n",
      "- MaxHR      1   154.87 184.87\n",
      "<none>           153.82 185.82\n",
      "- ExAng      1   156.49 186.49\n",
      "- Oldpeak    1   156.61 186.61\n",
      "- RestBP     1   158.74 188.74\n",
      "- Thal       2   161.95 189.95\n",
      "- Slope      2   163.07 191.07\n",
      "- ChestPain  3   171.46 197.46\n",
      "- Sex        1   168.02 198.02\n",
      "- Ca         3   184.13 210.13\n",
      "\n",
      "Step:  AIC=184.87\n",
      "AHD ~ Sex + ChestPain + RestBP + ExAng + Oldpeak + Slope + Ca + \n",
      "    Thal\n",
      "\n",
      "            Df Deviance    AIC\n",
      "<none>           154.87 184.87\n",
      "- Oldpeak    1   157.92 185.92\n",
      "- ExAng      1   158.24 186.24\n",
      "- RestBP     1   159.41 187.41\n",
      "- Thal       2   162.63 188.63\n",
      "- Slope      2   167.26 193.26\n",
      "- Sex        1   168.67 196.67\n",
      "- ChestPain  3   174.62 198.62\n",
      "- Ca         3   186.41 210.41\n"
     ]
    },
    {
     "data": {
      "text/plain": [
       "\n",
       "Call:  glm(formula = AHD ~ Sex + ChestPain + RestBP + ExAng + Oldpeak + \n",
       "    Slope + Ca + Thal, family = \"binomial\", data = train)\n",
       "\n",
       "Coefficients:\n",
       "        (Intercept)              Sexmale  ChestPainnonanginal  \n",
       "           -7.19608              2.12545             -1.95330  \n",
       "ChestPainnontypical     ChestPaintypical               RestBP  \n",
       "           -0.60757             -2.40501              0.02424  \n",
       "           ExAngyes              Oldpeak            Slopeflat  \n",
       "            0.88802              0.40363              1.68302  \n",
       "   Slopedownsloping     Ca1 major vessel    Ca2 major vessels  \n",
       "            0.59804              1.92238              3.27691  \n",
       "  Ca3 major vessels           Thalnormal       Thalreversable  \n",
       "            1.99755              0.36758              1.52795  \n",
       "\n",
       "Degrees of Freedom: 236 Total (i.e. Null);  222 Residual\n",
       "Null Deviance:\t    328.2 \n",
       "Residual Deviance: 154.9 \tAIC: 184.9"
      ]
     },
     "metadata": {},
     "output_type": "display_data"
    },
    {
     "data": {
      "text/plain": [
       "\n",
       "Call:\n",
       "glm(formula = AHD ~ Age + Sex + ChestPain + RestBP + Chol + Fbs + \n",
       "    MaxHR + ExAng + Oldpeak + Slope + Ca + Thal, family = \"binomial\", \n",
       "    data = train)\n",
       "\n",
       "Deviance Residuals: \n",
       "    Min       1Q   Median       3Q      Max  \n",
       "-3.0620  -0.4628  -0.0774   0.3623   2.7446  \n",
       "\n",
       "Coefficients:\n",
       "                     Estimate Std. Error z value Pr(>|z|)    \n",
       "(Intercept)         -5.177467   3.053929  -1.695 0.090010 .  \n",
       "Age                 -0.015431   0.027451  -0.562 0.574021    \n",
       "Sexmale              2.203347   0.633256   3.479 0.000503 ***\n",
       "ChestPainnonanginal -1.749035   0.568662  -3.076 0.002100 ** \n",
       "ChestPainnontypical -0.491915   0.619904  -0.794 0.427467    \n",
       "ChestPaintypical    -2.253444   0.747402  -3.015 0.002569 ** \n",
       "RestBP               0.027791   0.012472   2.228 0.025865 *  \n",
       "Chol                 0.002699   0.004462   0.605 0.545268    \n",
       "Fbstrue             -0.423022   0.689540  -0.613 0.539556    \n",
       "MaxHR               -0.015270   0.012687  -1.204 0.228741    \n",
       "ExAngyes             0.822551   0.495336   1.661 0.096795 .  \n",
       "Oldpeak              0.341505   0.244088   1.399 0.161781    \n",
       "Slopeflat            1.596329   0.547652   2.915 0.003559 ** \n",
       "Slopedownsloping     0.633805   0.916540   0.692 0.489239    \n",
       "Ca1 major vessel     1.962197   0.549035   3.574 0.000352 ***\n",
       "Ca2 major vessels    3.506434   0.893039   3.926 8.62e-05 ***\n",
       "Ca3 major vessels    2.057150   0.964537   2.133 0.032942 *  \n",
       "Thalnormal           0.369222   0.867829   0.425 0.670505    \n",
       "Thalreversable       1.527422   0.862905   1.770 0.076712 .  \n",
       "---\n",
       "Signif. codes:  0 '***' 0.001 '**' 0.01 '*' 0.05 '.' 0.1 ' ' 1\n",
       "\n",
       "(Dispersion parameter for binomial family taken to be 1)\n",
       "\n",
       "    Null deviance: 328.21  on 236  degrees of freedom\n",
       "Residual deviance: 152.85  on 218  degrees of freedom\n",
       "AIC: 190.85\n",
       "\n",
       "Number of Fisher Scoring iterations: 6\n"
      ]
     },
     "metadata": {},
     "output_type": "display_data"
    },
    {
     "data": {
      "text/plain": [
       "\n",
       "Call:\n",
       "glm(formula = AHD ~ Sex + ChestPain + RestBP + Chol + Fbs + MaxHR + \n",
       "    ExAng + Oldpeak + Slope + Ca + Thal, family = \"binomial\", \n",
       "    data = train)\n",
       "\n",
       "Deviance Residuals: \n",
       "     Min        1Q    Median        3Q       Max  \n",
       "-3.05092  -0.46088  -0.08028   0.37864   2.75534  \n",
       "\n",
       "Coefficients:\n",
       "                     Estimate Std. Error z value Pr(>|z|)    \n",
       "(Intercept)         -5.982118   2.706035  -2.211 0.027060 *  \n",
       "Sexmale              2.236421   0.629968   3.550 0.000385 ***\n",
       "ChestPainnonanginal -1.774963   0.568253  -3.124 0.001787 ** \n",
       "ChestPainnontypical -0.507813   0.618284  -0.821 0.411460    \n",
       "ChestPaintypical    -2.254690   0.744553  -3.028 0.002460 ** \n",
       "RestBP               0.025630   0.011775   2.177 0.029516 *  \n",
       "Chol                 0.002285   0.004354   0.525 0.599663    \n",
       "Fbstrue             -0.429823   0.686845  -0.626 0.531450    \n",
       "MaxHR               -0.012778   0.011860  -1.077 0.281325    \n",
       "ExAngyes             0.813366   0.494050   1.646 0.099697 .  \n",
       "Oldpeak              0.357760   0.242056   1.478 0.139407    \n",
       "Slopeflat            1.551372   0.539090   2.878 0.004005 ** \n",
       "Slopedownsloping     0.602630   0.914809   0.659 0.510056    \n",
       "Ca1 major vessel     1.893296   0.533332   3.550 0.000385 ***\n",
       "Ca2 major vessels    3.360735   0.848908   3.959 7.53e-05 ***\n",
       "Ca3 major vessels    1.966445   0.957894   2.053 0.040084 *  \n",
       "Thalnormal           0.366327   0.865811   0.423 0.672221    \n",
       "Thalreversable       1.520653   0.860956   1.766 0.077356 .  \n",
       "---\n",
       "Signif. codes:  0 '***' 0.001 '**' 0.01 '*' 0.05 '.' 0.1 ' ' 1\n",
       "\n",
       "(Dispersion parameter for binomial family taken to be 1)\n",
       "\n",
       "    Null deviance: 328.21  on 236  degrees of freedom\n",
       "Residual deviance: 153.17  on 219  degrees of freedom\n",
       "AIC: 189.17\n",
       "\n",
       "Number of Fisher Scoring iterations: 6\n"
      ]
     },
     "metadata": {},
     "output_type": "display_data"
    },
    {
     "data": {
      "text/plain": [
       "\n",
       "Call:\n",
       "glm(formula = AHD ~ Sex + ChestPain + RestBP + Fbs + MaxHR + \n",
       "    ExAng + Oldpeak + Slope + Ca + Thal, family = \"binomial\", \n",
       "    data = train)\n",
       "\n",
       "Deviance Residuals: \n",
       "     Min        1Q    Median        3Q       Max  \n",
       "-3.03389  -0.45009  -0.07373   0.36038   2.76890  \n",
       "\n",
       "Coefficients:\n",
       "                    Estimate Std. Error z value Pr(>|z|)    \n",
       "(Intercept)         -5.55747    2.55536  -2.175 0.029643 *  \n",
       "Sexmale              2.18623    0.62309   3.509 0.000450 ***\n",
       "ChestPainnonanginal -1.79565    0.56803  -3.161 0.001571 ** \n",
       "ChestPainnontypical -0.51457    0.61774  -0.833 0.404848    \n",
       "ChestPaintypical    -2.28303    0.74209  -3.077 0.002094 ** \n",
       "RestBP               0.02601    0.01175   2.214 0.026852 *  \n",
       "Fbstrue             -0.42185    0.68364  -0.617 0.537188    \n",
       "MaxHR               -0.01227    0.01175  -1.045 0.296204    \n",
       "ExAngyes             0.81013    0.49180   1.647 0.099500 .  \n",
       "Oldpeak              0.36098    0.24216   1.491 0.136055    \n",
       "Slopeflat            1.57216    0.53845   2.920 0.003503 ** \n",
       "Slopedownsloping     0.60881    0.91237   0.667 0.504593    \n",
       "Ca1 major vessel     1.89894    0.53404   3.556 0.000377 ***\n",
       "Ca2 major vessels    3.35085    0.84339   3.973  7.1e-05 ***\n",
       "Ca3 major vessels    1.97962    0.94493   2.095 0.036171 *  \n",
       "Thalnormal           0.41108    0.85824   0.479 0.631955    \n",
       "Thalreversable       1.56873    0.85237   1.840 0.065705 .  \n",
       "---\n",
       "Signif. codes:  0 '***' 0.001 '**' 0.01 '*' 0.05 '.' 0.1 ' ' 1\n",
       "\n",
       "(Dispersion parameter for binomial family taken to be 1)\n",
       "\n",
       "    Null deviance: 328.21  on 236  degrees of freedom\n",
       "Residual deviance: 153.44  on 220  degrees of freedom\n",
       "AIC: 187.44\n",
       "\n",
       "Number of Fisher Scoring iterations: 6\n"
      ]
     },
     "metadata": {},
     "output_type": "display_data"
    },
    {
     "data": {
      "text/plain": [
       "\n",
       "Call:\n",
       "glm(formula = AHD ~ Sex + ChestPain + RestBP + MaxHR + ExAng + \n",
       "    Oldpeak + Slope + Ca + Thal, family = \"binomial\", data = train)\n",
       "\n",
       "Deviance Residuals: \n",
       "     Min        1Q    Median        3Q       Max  \n",
       "-3.00039  -0.45552  -0.08663   0.36274   2.78450  \n",
       "\n",
       "Coefficients:\n",
       "                    Estimate Std. Error z value Pr(>|z|)    \n",
       "(Intercept)         -5.53732    2.55169  -2.170 0.030002 *  \n",
       "Sexmale              2.16521    0.62368   3.472 0.000517 ***\n",
       "ChestPainnonanginal -1.85842    0.56185  -3.308 0.000941 ***\n",
       "ChestPainnontypical -0.53324    0.61244  -0.871 0.383922    \n",
       "ChestPaintypical    -2.33102    0.74029  -3.149 0.001639 ** \n",
       "RestBP               0.02498    0.01162   2.150 0.031526 *  \n",
       "MaxHR               -0.01185    0.01173  -1.010 0.312658    \n",
       "ExAngyes             0.80391    0.49269   1.632 0.102748    \n",
       "Oldpeak              0.38753    0.23845   1.625 0.104117    \n",
       "Slopeflat            1.53312    0.53423   2.870 0.004108 ** \n",
       "Slopedownsloping     0.53928    0.90484   0.596 0.551181    \n",
       "Ca1 major vessel     1.84827    0.52534   3.518 0.000434 ***\n",
       "Ca2 major vessels    3.29991    0.83495   3.952 7.74e-05 ***\n",
       "Ca3 major vessels    1.84701    0.90328   2.045 0.040876 *  \n",
       "Thalnormal           0.47744    0.85045   0.561 0.574525    \n",
       "Thalreversable       1.64553    0.84220   1.954 0.050720 .  \n",
       "---\n",
       "Signif. codes:  0 '***' 0.001 '**' 0.01 '*' 0.05 '.' 0.1 ' ' 1\n",
       "\n",
       "(Dispersion parameter for binomial family taken to be 1)\n",
       "\n",
       "    Null deviance: 328.21  on 236  degrees of freedom\n",
       "Residual deviance: 153.82  on 221  degrees of freedom\n",
       "AIC: 185.82\n",
       "\n",
       "Number of Fisher Scoring iterations: 6\n"
      ]
     },
     "metadata": {},
     "output_type": "display_data"
    },
    {
     "data": {
      "text/plain": [
       "\n",
       "Call:\n",
       "glm(formula = AHD ~ Sex + ChestPain + RestBP + ExAng + Oldpeak + \n",
       "    Slope + Ca + Thal, family = \"binomial\", data = train)\n",
       "\n",
       "Deviance Residuals: \n",
       "     Min        1Q    Median        3Q       Max  \n",
       "-2.88089  -0.45947  -0.08808   0.39685   2.84821  \n",
       "\n",
       "Coefficients:\n",
       "                    Estimate Std. Error z value Pr(>|z|)    \n",
       "(Intercept)         -7.19608    2.01158  -3.577 0.000347 ***\n",
       "Sexmale              2.12545    0.61975   3.430 0.000605 ***\n",
       "ChestPainnonanginal -1.95330    0.55255  -3.535 0.000408 ***\n",
       "ChestPainnontypical -0.60757    0.60695  -1.001 0.316814    \n",
       "ChestPaintypical    -2.40501    0.74225  -3.240 0.001195 ** \n",
       "RestBP               0.02424    0.01174   2.064 0.038998 *  \n",
       "ExAngyes             0.88802    0.48523   1.830 0.067236 .  \n",
       "Oldpeak              0.40363    0.23807   1.695 0.089987 .  \n",
       "Slopeflat            1.68302    0.51461   3.270 0.001074 ** \n",
       "Slopedownsloping     0.59804    0.88275   0.677 0.498109    \n",
       "Ca1 major vessel     1.92238    0.51898   3.704 0.000212 ***\n",
       "Ca2 major vessels    3.27691    0.84305   3.887 0.000101 ***\n",
       "Ca3 major vessels    1.99755    0.89996   2.220 0.026445 *  \n",
       "Thalnormal           0.36758    0.83721   0.439 0.660620    \n",
       "Thalreversable       1.52795    0.82913   1.843 0.065355 .  \n",
       "---\n",
       "Signif. codes:  0 '***' 0.001 '**' 0.01 '*' 0.05 '.' 0.1 ' ' 1\n",
       "\n",
       "(Dispersion parameter for binomial family taken to be 1)\n",
       "\n",
       "    Null deviance: 328.21  on 236  degrees of freedom\n",
       "Residual deviance: 154.87  on 222  degrees of freedom\n",
       "AIC: 184.87\n",
       "\n",
       "Number of Fisher Scoring iterations: 6\n"
      ]
     },
     "metadata": {},
     "output_type": "display_data"
    },
    {
     "data": {
      "text/plain": [
       "\n",
       "Call:\n",
       "glm(formula = AHD ~ ChestPain + Slope + Ca + Thal + RestBP, family = \"binomial\", \n",
       "    data = train)\n",
       "\n",
       "Deviance Residuals: \n",
       "    Min       1Q   Median       3Q      Max  \n",
       "-2.7520  -0.5836  -0.1807   0.4843   2.9565  \n",
       "\n",
       "Coefficients:\n",
       "                    Estimate Std. Error z value Pr(>|z|)    \n",
       "(Intercept)         -3.71438    1.56301  -2.376 0.017481 *  \n",
       "ChestPainnonanginal -2.04648    0.48604  -4.211 2.55e-05 ***\n",
       "ChestPainnontypical -1.09749    0.56078  -1.957 0.050338 .  \n",
       "ChestPaintypical    -1.89135    0.63677  -2.970 0.002976 ** \n",
       "Slopeflat            1.62558    0.42105   3.861 0.000113 ***\n",
       "Slopedownsloping     1.28548    0.71444   1.799 0.071973 .  \n",
       "Ca1 major vessel     1.96520    0.46876   4.192 2.76e-05 ***\n",
       "Ca2 major vessels    2.76950    0.70386   3.935 8.33e-05 ***\n",
       "Ca3 major vessels    2.26878    0.92742   2.446 0.014431 *  \n",
       "Thalnormal          -0.85482    0.72989  -1.171 0.241531    \n",
       "Thalreversable       1.21128    0.75318   1.608 0.107785    \n",
       "RestBP               0.02091    0.01035   2.020 0.043424 *  \n",
       "---\n",
       "Signif. codes:  0 '***' 0.001 '**' 0.01 '*' 0.05 '.' 0.1 ' ' 1\n",
       "\n",
       "(Dispersion parameter for binomial family taken to be 1)\n",
       "\n",
       "    Null deviance: 328.21  on 236  degrees of freedom\n",
       "Residual deviance: 177.79  on 225  degrees of freedom\n",
       "AIC: 201.79\n",
       "\n",
       "Number of Fisher Scoring iterations: 5\n"
      ]
     },
     "metadata": {},
     "output_type": "display_data"
    }
   ],
   "source": [
    "### Models \n",
    "model <- glm(AHD ~., data = train, family = \"binomial\")\n",
    "summary(model)\n",
    "pred <- predict(model, train, type = \"response\")\n",
    "roccurve <- roc(train$AHD ~ pred)\n",
    "pred1 <- ifelse(pred > 0.5, 1,0)\n",
    "tab1 <- table(Pred = pred1, Actual = train$AHD)\n",
    "## Used stepwise regression to get our best models \n",
    "# Model with the lowest AIC \n",
    "step(model, scope = list(upper = model), direction = \"backward\")\n",
    "#########################\n",
    "## Model 2\n",
    "model2 <- glm(AHD ~ Age + Sex + ChestPain + RestBP + Chol + Fbs + MaxHR + ExAng + \n",
    "                Oldpeak + Slope + Ca + Thal , data = train, family = \"binomial\")\n",
    "summary(model2)  \n",
    "pred2 <- predict(model2, train, type = \"response\")\n",
    "roccurve2 <- roc(train$AHD ~ pred2)\n",
    "pred2 <- ifelse(pred2 > 0.5, 1,0)\n",
    "tab2 <- table(Pred = pred2, Actual = train$AHD)\n",
    "#########################\n",
    "# Model 3\n",
    "model3 <- glm(AHD ~ Sex + ChestPain + RestBP + Chol + Fbs + MaxHR + ExAng + \n",
    "                Oldpeak + Slope + Ca + Thal,data =  train, family = \"binomial\")\n",
    "summary(model3)\n",
    "pred3 <- predict(model3, train, type = \"response\")\n",
    "roccurve3 <- roc(train$AHD ~ pred3)\n",
    "pred3 <- ifelse(pred3 > 0.5, 1,0)\n",
    "tab3 <- table(Pred = pred3, Actual = train$AHD)\n",
    "#########################\n",
    "# Model 4\n",
    "model4 <- glm(AHD ~ Sex + ChestPain + RestBP + Fbs + MaxHR + ExAng + Oldpeak + \n",
    "                Slope + Ca + Thal, data = train, family = \"binomial\")\n",
    "summary(model4)\n",
    "pred4 <- predict(model4, train, type = \"response\")\n",
    "roccurve4 <- roc(train$AHD ~ pred4)\n",
    "pred4 <- ifelse(pred4 > 0.5, 1,0)\n",
    "tab4 <- table(Pred = pred4, Actual = train$AHD)\n",
    "#########################\n",
    "#Model 5\n",
    "model5 <- glm(AHD ~ Sex + ChestPain + RestBP + MaxHR + ExAng + Oldpeak + Slope + \n",
    "                Ca + Thal  , data = train, family = \"binomial\")\n",
    "summary(model5)\n",
    "pred5 <- predict(model5, train, type = \"response\")\n",
    "roccurve5 <- roc(train$AHD ~ pred5)\n",
    "pred5 <- ifelse(pred5 > 0.5, 1,0)\n",
    "tab5 <- table(Pred = pred5, Actual = train$AHD)\n",
    "#########################\n",
    "# Model 6\n",
    "model6 <- glm(AHD ~ Sex + ChestPain + RestBP + ExAng + Oldpeak + Slope + Ca + \n",
    "                Thal  , data = train, family = \"binomial\")\n",
    "summary(model6)\n",
    "pred6 <- predict(model6, train, type = \"response\")\n",
    "roccurve6 <- roc(train$AHD ~ pred6)\n",
    "pred6 <- ifelse(pred6 > 0.5, 1,0)\n",
    "tab6 <- table(Pred = pred6, Actual = train$AHD)\n",
    "#########################\n",
    "# Model 7\n",
    "model7 <- glm(AHD ~  ChestPain + Slope + Ca + Thal + RestBP , data = train, family = \"binomial\")\n",
    "summary(model7)\n",
    "pred7 <- predict(model7, train, type = \"response\")\n",
    "roccurve7 <- roc(train$AHD ~ pred7)\n",
    "pred7 <- ifelse(pred7 > 0.5, 1,0)\n",
    "tab7 <- table(Pred = pred7, Actual = train$AHD)"
   ]
  },
  {
   "cell_type": "code",
   "execution_count": 17,
   "metadata": {},
   "outputs": [
    {
     "data": {
      "text/html": [
       "<table>\n",
       "<thead><tr><th scope=col>Models</th><th scope=col>Accuracy</th><th scope=col>Null_Deviance</th><th scope=col>Residual_Deviance</th><th scope=col>AIC</th><th scope=col>AUC</th></tr></thead>\n",
       "<tbody>\n",
       "\t<tr><td>TrainAge      </td><td>61.60         </td><td>328.21        </td><td>316.04        </td><td>320.04        </td><td>0.631         </td></tr>\n",
       "\t<tr><td>TrainSex      </td><td>64.14         </td><td>328.21        </td><td>302.89        </td><td>306.89        </td><td>0.649         </td></tr>\n",
       "\t<tr><td>TrainChestPain</td><td>73.42         </td><td>328.21        </td><td>273.81        </td><td>281.81        </td><td>0.740         </td></tr>\n",
       "\t<tr><td>TrainRestBP   </td><td>54.85         </td><td>328.21        </td><td>323.60        </td><td>327.60        </td><td>0.563         </td></tr>\n",
       "\t<tr><td>TrainChol     </td><td>51.90         </td><td>328.21        </td><td>327.68        </td><td>331.68        </td><td>0.551         </td></tr>\n",
       "\t<tr><td>TrainFbs      </td><td>51.90         </td><td>328.21        </td><td>328.16        </td><td>332.16        </td><td>0.504         </td></tr>\n",
       "\t<tr><td>TrainRestECG  </td><td>56.54         </td><td>328.21        </td><td>323.30        </td><td>329.30        </td><td>0.570         </td></tr>\n",
       "\t<tr><td>TrainMaxHR    </td><td>69.62         </td><td>328.21        </td><td>286.97        </td><td>290.97        </td><td>0.736         </td></tr>\n",
       "\t<tr><td>TrainExAng    </td><td>70.46         </td><td>328.21        </td><td>283.64        </td><td>287.64        </td><td>0.698         </td></tr>\n",
       "\t<tr><td>TrainOldpeak  </td><td>67.93         </td><td>328.21        </td><td>281.78        </td><td>285.78        </td><td>0.733         </td></tr>\n",
       "\t<tr><td>TrainSlope    </td><td>69.20         </td><td>328.21        </td><td>289.80        </td><td>295.80        </td><td>0.704         </td></tr>\n",
       "\t<tr><td>TrainCa       </td><td>73.00         </td><td>328.21        </td><td>272.25        </td><td>280.25        </td><td>0.745         </td></tr>\n",
       "\t<tr><td>TrainThal     </td><td>75.11         </td><td>328.21        </td><td>265.23        </td><td>271.23        </td><td>0.755         </td></tr>\n",
       "\t<tr><td>Model1        </td><td>86.08         </td><td>328.21        </td><td>152.22        </td><td>194.22        </td><td>0.937         </td></tr>\n",
       "\t<tr><td>Model2        </td><td>86.50         </td><td>328.21        </td><td>152.85        </td><td>190.85        </td><td>0.936         </td></tr>\n",
       "\t<tr><td>Model3        </td><td>85.65         </td><td>328.21        </td><td>153.17        </td><td>189.17        </td><td>0.936         </td></tr>\n",
       "\t<tr><td>Model4        </td><td>85.65         </td><td>328.21        </td><td>153.44        </td><td>187.44        </td><td>0.936         </td></tr>\n",
       "\t<tr><td>Model5        </td><td>84.81         </td><td>328.21        </td><td>153.82        </td><td>185.82        </td><td>0.935         </td></tr>\n",
       "\t<tr><td>Model6        </td><td>85.23         </td><td>328.21        </td><td>154.87        </td><td>184.87        </td><td>0.936         </td></tr>\n",
       "\t<tr><td>Model7        </td><td>84.81         </td><td>328.21        </td><td>177.79        </td><td>201.79        </td><td>0.914         </td></tr>\n",
       "</tbody>\n",
       "</table>\n"
      ],
      "text/latex": [
       "\\begin{tabular}{r|llllll}\n",
       " Models & Accuracy & Null\\_Deviance & Residual\\_Deviance & AIC & AUC\\\\\n",
       "\\hline\n",
       "\t TrainAge       & 61.60          & 328.21         & 316.04         & 320.04         & 0.631         \\\\\n",
       "\t TrainSex       & 64.14          & 328.21         & 302.89         & 306.89         & 0.649         \\\\\n",
       "\t TrainChestPain & 73.42          & 328.21         & 273.81         & 281.81         & 0.740         \\\\\n",
       "\t TrainRestBP    & 54.85          & 328.21         & 323.60         & 327.60         & 0.563         \\\\\n",
       "\t TrainChol      & 51.90          & 328.21         & 327.68         & 331.68         & 0.551         \\\\\n",
       "\t TrainFbs       & 51.90          & 328.21         & 328.16         & 332.16         & 0.504         \\\\\n",
       "\t TrainRestECG   & 56.54          & 328.21         & 323.30         & 329.30         & 0.570         \\\\\n",
       "\t TrainMaxHR     & 69.62          & 328.21         & 286.97         & 290.97         & 0.736         \\\\\n",
       "\t TrainExAng     & 70.46          & 328.21         & 283.64         & 287.64         & 0.698         \\\\\n",
       "\t TrainOldpeak   & 67.93          & 328.21         & 281.78         & 285.78         & 0.733         \\\\\n",
       "\t TrainSlope     & 69.20          & 328.21         & 289.80         & 295.80         & 0.704         \\\\\n",
       "\t TrainCa        & 73.00          & 328.21         & 272.25         & 280.25         & 0.745         \\\\\n",
       "\t TrainThal      & 75.11          & 328.21         & 265.23         & 271.23         & 0.755         \\\\\n",
       "\t Model1         & 86.08          & 328.21         & 152.22         & 194.22         & 0.937         \\\\\n",
       "\t Model2         & 86.50          & 328.21         & 152.85         & 190.85         & 0.936         \\\\\n",
       "\t Model3         & 85.65          & 328.21         & 153.17         & 189.17         & 0.936         \\\\\n",
       "\t Model4         & 85.65          & 328.21         & 153.44         & 187.44         & 0.936         \\\\\n",
       "\t Model5         & 84.81          & 328.21         & 153.82         & 185.82         & 0.935         \\\\\n",
       "\t Model6         & 85.23          & 328.21         & 154.87         & 184.87         & 0.936         \\\\\n",
       "\t Model7         & 84.81          & 328.21         & 177.79         & 201.79         & 0.914         \\\\\n",
       "\\end{tabular}\n"
      ],
      "text/markdown": [
       "\n",
       "Models | Accuracy | Null_Deviance | Residual_Deviance | AIC | AUC | \n",
       "|---|---|---|---|---|---|---|---|---|---|---|---|---|---|---|---|---|---|---|---|\n",
       "| TrainAge       | 61.60          | 328.21         | 316.04         | 320.04         | 0.631          | \n",
       "| TrainSex       | 64.14          | 328.21         | 302.89         | 306.89         | 0.649          | \n",
       "| TrainChestPain | 73.42          | 328.21         | 273.81         | 281.81         | 0.740          | \n",
       "| TrainRestBP    | 54.85          | 328.21         | 323.60         | 327.60         | 0.563          | \n",
       "| TrainChol      | 51.90          | 328.21         | 327.68         | 331.68         | 0.551          | \n",
       "| TrainFbs       | 51.90          | 328.21         | 328.16         | 332.16         | 0.504          | \n",
       "| TrainRestECG   | 56.54          | 328.21         | 323.30         | 329.30         | 0.570          | \n",
       "| TrainMaxHR     | 69.62          | 328.21         | 286.97         | 290.97         | 0.736          | \n",
       "| TrainExAng     | 70.46          | 328.21         | 283.64         | 287.64         | 0.698          | \n",
       "| TrainOldpeak   | 67.93          | 328.21         | 281.78         | 285.78         | 0.733          | \n",
       "| TrainSlope     | 69.20          | 328.21         | 289.80         | 295.80         | 0.704          | \n",
       "| TrainCa        | 73.00          | 328.21         | 272.25         | 280.25         | 0.745          | \n",
       "| TrainThal      | 75.11          | 328.21         | 265.23         | 271.23         | 0.755          | \n",
       "| Model1         | 86.08          | 328.21         | 152.22         | 194.22         | 0.937          | \n",
       "| Model2         | 86.50          | 328.21         | 152.85         | 190.85         | 0.936          | \n",
       "| Model3         | 85.65          | 328.21         | 153.17         | 189.17         | 0.936          | \n",
       "| Model4         | 85.65          | 328.21         | 153.44         | 187.44         | 0.936          | \n",
       "| Model5         | 84.81          | 328.21         | 153.82         | 185.82         | 0.935          | \n",
       "| Model6         | 85.23          | 328.21         | 154.87         | 184.87         | 0.936          | \n",
       "| Model7         | 84.81          | 328.21         | 177.79         | 201.79         | 0.914          | \n",
       "\n",
       "\n"
      ],
      "text/plain": [
       "   Models         Accuracy Null_Deviance Residual_Deviance AIC    AUC  \n",
       "1  TrainAge       61.60    328.21        316.04            320.04 0.631\n",
       "2  TrainSex       64.14    328.21        302.89            306.89 0.649\n",
       "3  TrainChestPain 73.42    328.21        273.81            281.81 0.740\n",
       "4  TrainRestBP    54.85    328.21        323.60            327.60 0.563\n",
       "5  TrainChol      51.90    328.21        327.68            331.68 0.551\n",
       "6  TrainFbs       51.90    328.21        328.16            332.16 0.504\n",
       "7  TrainRestECG   56.54    328.21        323.30            329.30 0.570\n",
       "8  TrainMaxHR     69.62    328.21        286.97            290.97 0.736\n",
       "9  TrainExAng     70.46    328.21        283.64            287.64 0.698\n",
       "10 TrainOldpeak   67.93    328.21        281.78            285.78 0.733\n",
       "11 TrainSlope     69.20    328.21        289.80            295.80 0.704\n",
       "12 TrainCa        73.00    328.21        272.25            280.25 0.745\n",
       "13 TrainThal      75.11    328.21        265.23            271.23 0.755\n",
       "14 Model1         86.08    328.21        152.22            194.22 0.937\n",
       "15 Model2         86.50    328.21        152.85            190.85 0.936\n",
       "16 Model3         85.65    328.21        153.17            189.17 0.936\n",
       "17 Model4         85.65    328.21        153.44            187.44 0.936\n",
       "18 Model5         84.81    328.21        153.82            185.82 0.935\n",
       "19 Model6         85.23    328.21        154.87            184.87 0.936\n",
       "20 Model7         84.81    328.21        177.79            201.79 0.914"
      ]
     },
     "metadata": {},
     "output_type": "display_data"
    }
   ],
   "source": [
    "### Table of accuracy, deviances, AIC, AUC \n",
    "info_list <- list(TrainAge = list(Accuracy = acc(tab_age), Null_Deviance = trainAge$null.deviance, Residual_Deviance = trainAge$deviance, AIC = trainAge$aic, AUC = auc(roccurve_age)),\n",
    "                  TrainSex = list(Accuracy = acc(tab_sex), Null_Deviance = trainSex$null.deviance, Residual_Deviance = trainSex$deviance, AIC = trainSex$aic, AUC = auc(roccurve_sex)),\n",
    "                  TrainChestPain = list(Accuracy = acc(tab_cp), Null_Deviance = trainChestPain$null.deviance, Residual_Deviance = trainChestPain$deviance, AIC = trainChestPain$aic, AUC = auc(roccurve_cp)),\n",
    "                  TrainRestBP = list(Accuracy = acc(tab_rbp), Null_Deviance = trainRestBP$null.deviance, Residual_Deviance = trainRestBP$deviance, AIC = trainRestBP$aic, AUC = auc(roccurve_rbp)),\n",
    "                  TrainChol = list(Accuracy = acc(tab_chol), Null_Deviance = trainChol$null.deviance, Residual_Deviance = trainChol$deviance, AIC = trainChol$aic, AUC = auc(roccurve_chol)),\n",
    "                  TrainFbs = list(Accuracy = acc(tab_fbs), Null_Deviance = trainFbs$null.deviance, Residual_Deviance = trainFbs$deviance, AIC = trainFbs$aic, AUC = auc(roccurve_fbs)),\n",
    "                  TrainRestECG = list(Accuracy = acc(tab_ecg), Null_Deviance = trainRestECG$null.deviance, Residual_Deviance = trainRestECG$deviance, AIC = trainRestECG$aic, AUC = auc(roccurve_ecg)),\n",
    "                  TrainMaxHR = list(Accuracy = acc(tab_hr), Null_Deviance = trainMaxHR$null.deviance, Residual_Deviance = trainMaxHR$deviance, AIC = trainMaxHR$aic, AUC = auc(roccurve_hr)),\n",
    "                  TrainExAng = list(Accuracy = acc(tab_ang), Null_Deviance = trainExAng$null.deviance, Residual_Deviance = trainExAng$deviance, AIC = trainExAng$aic, AUC = auc(roccurve_ang)),\n",
    "                  TrainOldpeak = list(Accuracy = acc(tab_op), Null_Deviance = trainOldpeak$null.deviance, Residual_Deviance = trainOldpeak$deviance, AIC = trainOldpeak$aic, AUC = auc(roccurve_op)),\n",
    "                  TrainSlope = list(Accuracy = acc(tab_sp), Null_Deviance = trainSlope$null.deviance, Residual_Deviance = trainSlope$deviance, AIC = trainSlope$aic, AUC = auc(roccurve_sp)),\n",
    "                  TrainCa = list(Accuracy = acc(tab_ca), Null_Deviance = trainCa$null.deviance, Residual_Deviance = trainCa$deviance, AIC = trainCa$aic, AUC = auc(roccurve_ca)),\n",
    "                  TrainThal = list(Accuracy = acc(tab_t), Null_Deviance = trainThal$null.deviance, Residual_Deviance = trainThal$deviance, AIC = trainThal$aic, AUC = auc(roccurve_t)),\n",
    "                  Model1 = list(Accuracy = acc(tab1), Null_Deviance = model$null.deviance, Residual_Deviance = model$deviance, AIC = model$aic, AUC = auc(roccurve)),\n",
    "                  Model2 = list(Accuracy = acc(tab2), Null_Deviance = model2$null.deviance, Residual_Deviance = model2$deviance, AIC = model2$aic, AUC = auc(roccurve2)),\n",
    "                  Model3 = list(Accuracy = acc(tab3), Null_Deviance = model3$null.deviance, Residual_Deviance = model3$deviance, AIC = model3$aic, AUC = auc(roccurve3)),\n",
    "                  Model4 = list(Accuracy = acc(tab4), Null_Deviance = model4$null.deviance, Residual_Deviance = model4$deviance, AIC = model4$aic, AUC = auc(roccurve4)),\n",
    "                  Model5 = list(Accuracy = acc(tab5), Null_Deviance = model5$null.deviance, Residual_Deviance = model5$deviance, AIC = model5$aic, AUC = auc(roccurve5)),\n",
    "                  Model6 = list(Accuracy = acc(tab6), Null_Deviance = model6$null.deviance, Residual_Deviance = model6$deviance, AIC = model6$aic, AUC = auc(roccurve6)),\n",
    "                  Model7 = list(Accuracy = acc(tab7), Null_Deviance = model7$null.deviance, Residual_Deviance = model7$deviance, AIC = model7$aic, AUC = auc(roccurve7)))\n",
    "info1 <- do.call(rbind, info_list)\n",
    "info2  <- as.data.frame(info1)\n",
    "info <- rownames_to_column(info2, \"Models\")\n",
    "info$Accuracy <-  round(as.numeric(info$Accuracy),2)\n",
    "info$Null_Deviance <-  round(as.numeric(info$Null_Deviance),2)\n",
    "info$Residual_Deviance <-  round(as.numeric(info$Residual_Deviance),2)\n",
    "info$AUC <-  round(as.numeric(info$AUC),3)\n",
    "info$AIC <-  round(as.numeric(info$AIC),2)\n",
    "info"
   ]
  },
  {
   "cell_type": "code",
   "execution_count": 18,
   "metadata": {},
   "outputs": [
    {
     "data": {},
     "metadata": {},
     "output_type": "display_data"
    },
    {
     "data": {
      "image/png": "[encoded data removed]",
      "text/plain": [
       "plot without title"
      ]
     },
     "metadata": {},
     "output_type": "display_data"
    }
   ],
   "source": [
    "### All ROC plotted on one graph \n",
    "### closer to the topleft the better the model\n",
    "# library(ggplot2) for ggroc()\n",
    "ggroc(list(model = roccurve, model_2 = roccurve2, model_3 = roccurve3,model_4 = roccurve4, model_5 = roccurve5, model_6 = roccurve6,\n",
    "           model_7 = roccurve7)) + ggtitle(\"ROC Curve\") + theme(plot.title = element_text(hjust = 0.5))"
   ]
  },
  {
   "cell_type": "code",
   "execution_count": 19,
   "metadata": {},
   "outputs": [
    {
     "data": {
      "text/plain": [
       "$model1\n",
       "    Actual\n",
       "Pred <50% diam. >50% diam.\n",
       "   0        109         19\n",
       "   1         14         95\n",
       "\n",
       "$model2\n",
       "    Actual\n",
       "Pred <50% diam. >50% diam.\n",
       "   0        110         19\n",
       "   1         13         95\n",
       "\n",
       "$model3\n",
       "    Actual\n",
       "Pred <50% diam. >50% diam.\n",
       "   0        109         20\n",
       "   1         14         94\n",
       "\n",
       "$model4\n",
       "    Actual\n",
       "Pred <50% diam. >50% diam.\n",
       "   0        109         20\n",
       "   1         14         94\n",
       "\n",
       "$model5\n",
       "    Actual\n",
       "Pred <50% diam. >50% diam.\n",
       "   0        108         21\n",
       "   1         15         93\n",
       "\n",
       "$model6\n",
       "    Actual\n",
       "Pred <50% diam. >50% diam.\n",
       "   0        107         19\n",
       "   1         16         95\n",
       "\n",
       "$model7\n",
       "    Actual\n",
       "Pred <50% diam. >50% diam.\n",
       "   0        108         21\n",
       "   1         15         93\n"
      ]
     },
     "metadata": {},
     "output_type": "display_data"
    }
   ],
   "source": [
    "### tables of models. \n",
    "# Looking for models with smallest false negative rate, that means predicited no but Actual is yes \n",
    "tables <- list(model1 = tab1,\n",
    "               model2 = tab2,\n",
    "               model3 = tab3,\n",
    "               model4 = tab4,\n",
    "               model5 = tab5,\n",
    "               model6 = tab6, \n",
    "               model7 = tab7)\n",
    "tables"
   ]
  },
  {
   "cell_type": "code",
   "execution_count": 20,
   "metadata": {},
   "outputs": [],
   "source": [
    "### Best Models w/ Test Data Set \n",
    "## Model 1\n",
    "pred_test1 <- predict(model, test, type = 'response')\n",
    "prediction_1 <- ifelse(pred_test1 > 0.5, 1, 0)\n",
    "tab_1 <- table(Predicted = prediction_1, Actual = test$AHD)\n",
    "roccurve_1 <- roc(test$AHD ~ pred_test1)\n",
    "## Model 4\n",
    "pred_test4 <- predict(model4, test, type = 'response')\n",
    "prediction_4 <- ifelse(pred_test4 > 0.5, 1, 0)\n",
    "tab_4 <- table(Predicted = prediction_4, Actual = test$AHD)\n",
    "roccurve_4 <- roc(test$AHD ~ pred_test4)\n",
    "## Model 6\n",
    "pred_test6 <- predict(model6, test, type = 'response')\n",
    "prediction_6 <- ifelse(pred_test6 > 0.5, 1, 0)\n",
    "tab_6 <- table(Predicted = prediction_6, Actual = test$AHD)\n",
    "roccurve_6 <- roc(test$AHD ~ pred_test6)"
   ]
  },
  {
   "cell_type": "code",
   "execution_count": 21,
   "metadata": {},
   "outputs": [
    {
     "data": {},
     "metadata": {},
     "output_type": "display_data"
    },
    {
     "data": {
      "text/html": [
       "<table>\n",
       "<thead><tr><th scope=col>Models</th><th scope=col>Accuracy</th><th scope=col>AUC</th></tr></thead>\n",
       "<tbody>\n",
       "\t<tr><td>Model1   </td><td>93.33333 </td><td>0.9341951</td></tr>\n",
       "\t<tr><td>Model4   </td><td>90       </td><td>0.9259694</td></tr>\n",
       "\t<tr><td>Model6   </td><td>90       </td><td>0.9259694</td></tr>\n",
       "</tbody>\n",
       "</table>\n"
      ],
      "text/latex": [
       "\\begin{tabular}{r|lll}\n",
       " Models & Accuracy & AUC\\\\\n",
       "\\hline\n",
       "\t Model1    & 93.33333  & 0.9341951\\\\\n",
       "\t Model4    & 90        & 0.9259694\\\\\n",
       "\t Model6    & 90        & 0.9259694\\\\\n",
       "\\end{tabular}\n"
      ],
      "text/markdown": [
       "\n",
       "Models | Accuracy | AUC | \n",
       "|---|---|---|\n",
       "| Model1    | 93.33333  | 0.9341951 | \n",
       "| Model4    | 90        | 0.9259694 | \n",
       "| Model6    | 90        | 0.9259694 | \n",
       "\n",
       "\n"
      ],
      "text/plain": [
       "  Models Accuracy AUC      \n",
       "1 Model1 93.33333 0.9341951\n",
       "2 Model4 90       0.9259694\n",
       "3 Model6 90       0.9259694"
      ]
     },
     "metadata": {},
     "output_type": "display_data"
    },
    {
     "data": {
      "text/plain": [
       "$model1\n",
       "         Actual\n",
       "Predicted <50% diam. >50% diam.\n",
       "        0         36          3\n",
       "        1          1         20\n",
       "\n",
       "$model4\n",
       "         Actual\n",
       "Predicted <50% diam. >50% diam.\n",
       "        0         34          3\n",
       "        1          3         20\n",
       "\n",
       "$model6\n",
       "         Actual\n",
       "Predicted <50% diam. >50% diam.\n",
       "        0         35          4\n",
       "        1          2         19\n"
      ]
     },
     "metadata": {},
     "output_type": "display_data"
    },
    {
     "data": {
      "image/png": "[encoded data removed]",
      "text/plain": [
       "plot without title"
      ]
     },
     "metadata": {},
     "output_type": "display_data"
    }
   ],
   "source": [
    "### ROC curve for Best Models \n",
    "ggroc(list(model_1 = roccurve_1, model_4 = roccurve_4, model_6 =  roccurve_6))\n",
    "### AUC for best models \n",
    "test_info_list <- list(Model1 = list(Accuracy = acc(tab_1), AUC = auc(roccurve_1)),\n",
    "                       Model4 = list(Accuracy = acc(tab_4), AUC = auc(roccurve_4)),\n",
    "                       Model6 = list(Accuracy = acc(tab_6), AUC = auc(roccurve_6)))\n",
    "test_info1 <- do.call(rbind, test_info_list)\n",
    "test_info2 <- as.data.frame(test_info1)\n",
    "test_info <- rownames_to_column(test_info2, \"Models\")\n",
    "test_info\n",
    "tables_test <- list(model1 = tab_1,\n",
    "                    model4 = tab_4,\n",
    "                    model6 = tab_6)\n",
    "tables_test"
   ]
  },
  {
   "cell_type": "code",
   "execution_count": 22,
   "metadata": {},
   "outputs": [
    {
     "data": {
      "text/plain": [
       "\n",
       "Call:\n",
       "svm(formula = AHD ~ ., data = train, kernel = \"linear\")\n",
       "\n",
       "\n",
       "Parameters:\n",
       "   SVM-Type:  C-classification \n",
       " SVM-Kernel:  linear \n",
       "       cost:  1 \n",
       "      gamma:  0.04761905 \n",
       "\n",
       "Number of Support Vectors:  100\n",
       "\n",
       " ( 52 48 )\n",
       "\n",
       "\n",
       "Number of Classes:  2 \n",
       "\n",
       "Levels: \n",
       " <50% diam. >50% diam.\n",
       "\n",
       "\n"
      ]
     },
     "metadata": {},
     "output_type": "display_data"
    },
    {
     "data": {
      "text/plain": [
       "            Actual\n",
       "Predicited   <50% diam. >50% diam.\n",
       "  <50% diam.        107         19\n",
       "  >50% diam.         16         95"
      ]
     },
     "metadata": {},
     "output_type": "display_data"
    },
    {
     "data": {
      "text/plain": [
       "\n",
       "Call:\n",
       "svm(formula = AHD ~ ., data = train, kernel = \"sigmoid\")\n",
       "\n",
       "\n",
       "Parameters:\n",
       "   SVM-Type:  C-classification \n",
       " SVM-Kernel:  sigmoid \n",
       "       cost:  1 \n",
       "      gamma:  0.04761905 \n",
       "     coef.0:  0 \n",
       "\n",
       "Number of Support Vectors:  133\n",
       "\n",
       " ( 66 67 )\n",
       "\n",
       "\n",
       "Number of Classes:  2 \n",
       "\n",
       "Levels: \n",
       " <50% diam. >50% diam.\n",
       "\n",
       "\n"
      ]
     },
     "metadata": {},
     "output_type": "display_data"
    },
    {
     "data": {
      "text/plain": [
       "            Actual\n",
       "Predicited   <50% diam. >50% diam.\n",
       "  <50% diam.         98         22\n",
       "  >50% diam.         25         92"
      ]
     },
     "metadata": {},
     "output_type": "display_data"
    },
    {
     "data": {
      "image/png": "[encoded data removed]",
      "text/plain": [
       "Plot with title \"SVM 1 Linear\""
      ]
     },
     "metadata": {},
     "output_type": "display_data"
    },
    {
     "data": {
      "text/plain": [
       "\n",
       "Call:\n",
       "svm(formula = AHD ~ ., data = train, kernel = \"polynomial\")\n",
       "\n",
       "\n",
       "Parameters:\n",
       "   SVM-Type:  C-classification \n",
       " SVM-Kernel:  polynomial \n",
       "       cost:  1 \n",
       "     degree:  3 \n",
       "      gamma:  0.04761905 \n",
       "     coef.0:  0 \n",
       "\n",
       "Number of Support Vectors:  212\n",
       "\n",
       " ( 105 107 )\n",
       "\n",
       "\n",
       "Number of Classes:  2 \n",
       "\n",
       "Levels: \n",
       " <50% diam. >50% diam.\n",
       "\n",
       "\n"
      ]
     },
     "metadata": {},
     "output_type": "display_data"
    },
    {
     "data": {
      "text/plain": [
       "            Actual\n",
       "Predicited   <50% diam. >50% diam.\n",
       "  <50% diam.        120         58\n",
       "  >50% diam.          3         56"
      ]
     },
     "metadata": {},
     "output_type": "display_data"
    },
    {
     "data": {
      "text/html": [
       "74.2616033755274"
      ],
      "text/latex": [
       "74.2616033755274"
      ],
      "text/markdown": [
       "74.2616033755274"
      ],
      "text/plain": [
       "[1] 74.2616"
      ]
     },
     "metadata": {},
     "output_type": "display_data"
    },
    {
     "data": {
      "image/png": "[encoded data removed]",
      "text/plain": [
       "Plot with title \"SVM 1 Sigmoid\""
      ]
     },
     "metadata": {},
     "output_type": "display_data"
    },
    {
     "data": {
      "text/plain": [
       "\n",
       "Call:\n",
       "svm(formula = AHD ~ Sex + ChestPain + RestBP + MaxHR + Oldpeak + \n",
       "    Slope + Ca, data = train, kernel = \"linear\")\n",
       "\n",
       "\n",
       "Parameters:\n",
       "   SVM-Type:  C-classification \n",
       " SVM-Kernel:  linear \n",
       "       cost:  1 \n",
       "      gamma:  0.07692308 \n",
       "\n",
       "Number of Support Vectors:  103\n",
       "\n",
       " ( 52 51 )\n",
       "\n",
       "\n",
       "Number of Classes:  2 \n",
       "\n",
       "Levels: \n",
       " <50% diam. >50% diam.\n",
       "\n",
       "\n"
      ]
     },
     "metadata": {},
     "output_type": "display_data"
    },
    {
     "data": {
      "image/png": "[encoded data removed]",
      "text/plain": [
       "Plot with title \"SVM 1 Polynomial\""
      ]
     },
     "metadata": {},
     "output_type": "display_data"
    },
    {
     "data": {
      "text/plain": [
       "            Actual\n",
       "Predicited   <50% diam. >50% diam.\n",
       "  <50% diam.        104         19\n",
       "  >50% diam.         19         95"
      ]
     },
     "metadata": {},
     "output_type": "display_data"
    },
    {
     "data": {
      "text/plain": [
       "\n",
       "Call:\n",
       "svm(formula = AHD ~ Sex + ChestPain + RestBP + MaxHR + Oldpeak + \n",
       "    Slope + Ca, data = train, kernel = \"sigmoid\")\n",
       "\n",
       "\n",
       "Parameters:\n",
       "   SVM-Type:  C-classification \n",
       " SVM-Kernel:  sigmoid \n",
       "       cost:  1 \n",
       "      gamma:  0.07692308 \n",
       "     coef.0:  0 \n",
       "\n",
       "Number of Support Vectors:  140\n",
       "\n",
       " ( 70 70 )\n",
       "\n",
       "\n",
       "Number of Classes:  2 \n",
       "\n",
       "Levels: \n",
       " <50% diam. >50% diam.\n",
       "\n",
       "\n"
      ]
     },
     "metadata": {},
     "output_type": "display_data"
    },
    {
     "data": {
      "image/png": "[encoded data removed]",
      "text/plain": [
       "Plot with title \"SVM 2 Linear\""
      ]
     },
     "metadata": {},
     "output_type": "display_data"
    },
    {
     "data": {
      "text/plain": [
       "            Actual\n",
       "Predicited   <50% diam. >50% diam.\n",
       "  <50% diam.        101         24\n",
       "  >50% diam.         22         90"
      ]
     },
     "metadata": {},
     "output_type": "display_data"
    },
    {
     "data": {
      "text/plain": [
       "\n",
       "Call:\n",
       "svm(formula = AHD ~ Age + Sex + ChestPain + RestBP + MaxHR + Oldpeak + \n",
       "    Slope + Ca + Thal, data = train, kernel = \"linear\")\n",
       "\n",
       "\n",
       "Parameters:\n",
       "   SVM-Type:  C-classification \n",
       " SVM-Kernel:  linear \n",
       "       cost:  1 \n",
       "      gamma:  0.0625 \n",
       "\n",
       "Number of Support Vectors:  99\n",
       "\n",
       " ( 49 50 )\n",
       "\n",
       "\n",
       "Number of Classes:  2 \n",
       "\n",
       "Levels: \n",
       " <50% diam. >50% diam.\n",
       "\n",
       "\n"
      ]
     },
     "metadata": {},
     "output_type": "display_data"
    },
    {
     "data": {
      "image/png": "[encoded data removed]",
      "text/plain": [
       "Plot with title \"SVM 2 Sigmoid\""
      ]
     },
     "metadata": {},
     "output_type": "display_data"
    },
    {
     "data": {
      "text/plain": [
       "            Actual\n",
       "Predicited   <50% diam. >50% diam.\n",
       "  <50% diam.        108         22\n",
       "  >50% diam.         15         92"
      ]
     },
     "metadata": {},
     "output_type": "display_data"
    },
    {
     "data": {
      "text/plain": [
       "\n",
       "Call:\n",
       "svm(formula = AHD ~ Age + Sex + ChestPain + RestBP + MaxHR + Oldpeak + \n",
       "    Slope + Ca + Thal, data = train, kernel = \"sigmoid\")\n",
       "\n",
       "\n",
       "Parameters:\n",
       "   SVM-Type:  C-classification \n",
       " SVM-Kernel:  sigmoid \n",
       "       cost:  1 \n",
       "      gamma:  0.0625 \n",
       "     coef.0:  0 \n",
       "\n",
       "Number of Support Vectors:  132\n",
       "\n",
       " ( 67 65 )\n",
       "\n",
       "\n",
       "Number of Classes:  2 \n",
       "\n",
       "Levels: \n",
       " <50% diam. >50% diam.\n",
       "\n",
       "\n"
      ]
     },
     "metadata": {},
     "output_type": "display_data"
    },
    {
     "data": {
      "image/png": "[encoded data removed]",
      "text/plain": [
       "Plot with title \"SVM 3 Linear\""
      ]
     },
     "metadata": {},
     "output_type": "display_data"
    },
    {
     "data": {
      "text/plain": [
       "            Actual\n",
       "Predicited   <50% diam. >50% diam.\n",
       "  <50% diam.         99         19\n",
       "  >50% diam.         24         95"
      ]
     },
     "metadata": {},
     "output_type": "display_data"
    },
    {
     "data": {
      "text/plain": [
       "\n",
       "Call:\n",
       "svm(formula = AHD ~ Age + Sex + ChestPain + RestBP + MaxHR + Oldpeak + \n",
       "    Slope + Ca + Thal + Chol, data = train, kernel = \"linear\")\n",
       "\n",
       "\n",
       "Parameters:\n",
       "   SVM-Type:  C-classification \n",
       " SVM-Kernel:  linear \n",
       "       cost:  1 \n",
       "      gamma:  0.05882353 \n",
       "\n",
       "Number of Support Vectors:  98\n",
       "\n",
       " ( 50 48 )\n",
       "\n",
       "\n",
       "Number of Classes:  2 \n",
       "\n",
       "Levels: \n",
       " <50% diam. >50% diam.\n",
       "\n",
       "\n"
      ]
     },
     "metadata": {},
     "output_type": "display_data"
    },
    {
     "data": {
      "image/png": "[encoded data removed]",
      "text/plain": [
       "Plot with title \"SVM 3 Sigmoid\""
      ]
     },
     "metadata": {},
     "output_type": "display_data"
    },
    {
     "data": {
      "text/plain": [
       "            Actual\n",
       "Predicited   <50% diam. >50% diam.\n",
       "  <50% diam.        106         18\n",
       "  >50% diam.         17         96"
      ]
     },
     "metadata": {},
     "output_type": "display_data"
    },
    {
     "data": {
      "text/plain": [
       "\n",
       "Call:\n",
       "svm(formula = AHD ~ Age + Sex + ChestPain + RestBP + MaxHR + Oldpeak + \n",
       "    Slope + Ca + Thal + Chol, data = train, kernel = \"linear\")\n",
       "\n",
       "\n",
       "Parameters:\n",
       "   SVM-Type:  C-classification \n",
       " SVM-Kernel:  linear \n",
       "       cost:  1 \n",
       "      gamma:  0.05882353 \n",
       "\n",
       "Number of Support Vectors:  98\n",
       "\n",
       " ( 50 48 )\n",
       "\n",
       "\n",
       "Number of Classes:  2 \n",
       "\n",
       "Levels: \n",
       " <50% diam. >50% diam.\n",
       "\n",
       "\n"
      ]
     },
     "metadata": {},
     "output_type": "display_data"
    },
    {
     "data": {
      "text/plain": [
       "            Actual\n",
       "Predicited   <50% diam. >50% diam.\n",
       "  <50% diam.        118         42\n",
       "  >50% diam.          5         72"
      ]
     },
     "metadata": {},
     "output_type": "display_data"
    },
    {
     "data": {
      "text/html": [
       "80.168776371308"
      ],
      "text/latex": [
       "80.168776371308"
      ],
      "text/markdown": [
       "80.168776371308"
      ],
      "text/plain": [
       "[1] 80.16878"
      ]
     },
     "metadata": {},
     "output_type": "display_data"
    },
    {
     "data": {
      "text/plain": [
       "\n",
       "Call:\n",
       "svm(formula = AHD ~ Age + Sex + ChestPain + RestBP + MaxHR + Oldpeak + \n",
       "    Slope + Ca + Thal + Chol, data = train, kernel = \"sigmoid\")\n",
       "\n",
       "\n",
       "Parameters:\n",
       "   SVM-Type:  C-classification \n",
       " SVM-Kernel:  sigmoid \n",
       "       cost:  1 \n",
       "      gamma:  0.05882353 \n",
       "     coef.0:  0 \n",
       "\n",
       "Number of Support Vectors:  133\n",
       "\n",
       " ( 66 67 )\n",
       "\n",
       "\n",
       "Number of Classes:  2 \n",
       "\n",
       "Levels: \n",
       " <50% diam. >50% diam.\n",
       "\n",
       "\n"
      ]
     },
     "metadata": {},
     "output_type": "display_data"
    },
    {
     "data": {
      "image/png": "[encoded data removed]",
      "text/plain": [
       "Plot with title \"SVM 4 Linear\""
      ]
     },
     "metadata": {},
     "output_type": "display_data"
    },
    {
     "data": {
      "text/plain": [
       "            Actual\n",
       "Predicited   <50% diam. >50% diam.\n",
       "  <50% diam.         99         19\n",
       "  >50% diam.         24         95"
      ]
     },
     "metadata": {},
     "output_type": "display_data"
    },
    {
     "data": {
      "text/plain": [
       "\n",
       "Call:\n",
       "svm(formula = AHD ~ Age + Sex + ChestPain + RestBP + MaxHR + Oldpeak + \n",
       "    Slope + Ca + Thal + ExAng, data = train, kernel = \"linear\")\n",
       "\n",
       "\n",
       "Parameters:\n",
       "   SVM-Type:  C-classification \n",
       " SVM-Kernel:  linear \n",
       "       cost:  1 \n",
       "      gamma:  0.05882353 \n",
       "\n",
       "Number of Support Vectors:  97\n",
       "\n",
       " ( 49 48 )\n",
       "\n",
       "\n",
       "Number of Classes:  2 \n",
       "\n",
       "Levels: \n",
       " <50% diam. >50% diam.\n",
       "\n",
       "\n"
      ]
     },
     "metadata": {},
     "output_type": "display_data"
    },
    {
     "data": {
      "image/png": "[encoded data removed]",
      "text/plain": [
       "Plot with title \"SVM 4 Sigmoid\""
      ]
     },
     "metadata": {},
     "output_type": "display_data"
    },
    {
     "data": {
      "text/plain": [
       "            Actual\n",
       "Predicited   <50% diam. >50% diam.\n",
       "  <50% diam.        108         21\n",
       "  >50% diam.         15         93"
      ]
     },
     "metadata": {},
     "output_type": "display_data"
    },
    {
     "data": {
      "text/plain": [
       "\n",
       "Call:\n",
       "svm(formula = AHD ~ Age + Sex + ChestPain + RestBP + MaxHR + Oldpeak + \n",
       "    Slope + Ca + Thal + ExAng, data = train, kernel = \"sigmoid\")\n",
       "\n",
       "\n",
       "Parameters:\n",
       "   SVM-Type:  C-classification \n",
       " SVM-Kernel:  sigmoid \n",
       "       cost:  1 \n",
       "      gamma:  0.05882353 \n",
       "     coef.0:  0 \n",
       "\n",
       "Number of Support Vectors:  130\n",
       "\n",
       " ( 65 65 )\n",
       "\n",
       "\n",
       "Number of Classes:  2 \n",
       "\n",
       "Levels: \n",
       " <50% diam. >50% diam.\n",
       "\n",
       "\n"
      ]
     },
     "metadata": {},
     "output_type": "display_data"
    },
    {
     "data": {
      "image/png": "[encoded data removed]",
      "text/plain": [
       "Plot with title \"SVM 5 Linear\""
      ]
     },
     "metadata": {},
     "output_type": "display_data"
    },
    {
     "data": {
      "text/plain": [
       "            Actual\n",
       "Predicited   <50% diam. >50% diam.\n",
       "  <50% diam.         99         21\n",
       "  >50% diam.         24         93"
      ]
     },
     "metadata": {},
     "output_type": "display_data"
    },
    {
     "data": {
      "text/plain": [
       "\n",
       "Call:\n",
       "svm(formula = AHD ~ Sex + ChestPain + RestBP + MaxHR + Oldpeak + \n",
       "    Slope + Ca + Thal + ExAng + Chol, data = train, kernel = \"linear\")\n",
       "\n",
       "\n",
       "Parameters:\n",
       "   SVM-Type:  C-classification \n",
       " SVM-Kernel:  linear \n",
       "       cost:  1 \n",
       "      gamma:  0.05882353 \n",
       "\n",
       "Number of Support Vectors:  99\n",
       "\n",
       " ( 48 51 )\n",
       "\n",
       "\n",
       "Number of Classes:  2 \n",
       "\n",
       "Levels: \n",
       " <50% diam. >50% diam.\n",
       "\n",
       "\n"
      ]
     },
     "metadata": {},
     "output_type": "display_data"
    },
    {
     "data": {
      "image/png": "[encoded data removed]",
      "text/plain": [
       "Plot with title \"SVM 5 Sigmoid\""
      ]
     },
     "metadata": {},
     "output_type": "display_data"
    },
    {
     "data": {
      "text/plain": [
       "            Actual\n",
       "Predicited   <50% diam. >50% diam.\n",
       "  <50% diam.        109         21\n",
       "  >50% diam.         14         93"
      ]
     },
     "metadata": {},
     "output_type": "display_data"
    },
    {
     "data": {
      "text/plain": [
       "\n",
       "Call:\n",
       "svm(formula = AHD ~ Sex + ChestPain + RestBP + MaxHR + Oldpeak + \n",
       "    Slope + Ca + Thal + ExAng + Chol, data = train, kernel = \"sigmoid\")\n",
       "\n",
       "\n",
       "Parameters:\n",
       "   SVM-Type:  C-classification \n",
       " SVM-Kernel:  sigmoid \n",
       "       cost:  1 \n",
       "      gamma:  0.05882353 \n",
       "     coef.0:  0 \n",
       "\n",
       "Number of Support Vectors:  130\n",
       "\n",
       " ( 65 65 )\n",
       "\n",
       "\n",
       "Number of Classes:  2 \n",
       "\n",
       "Levels: \n",
       " <50% diam. >50% diam.\n",
       "\n",
       "\n"
      ]
     },
     "metadata": {},
     "output_type": "display_data"
    },
    {
     "data": {
      "image/png": "[encoded data removed]",
      "text/plain": [
       "Plot with title \"SVM 6 Linear\""
      ]
     },
     "metadata": {},
     "output_type": "display_data"
    },
    {
     "data": {
      "text/plain": [
       "            Actual\n",
       "Predicited   <50% diam. >50% diam.\n",
       "  <50% diam.         97         21\n",
       "  >50% diam.         26         93"
      ]
     },
     "metadata": {},
     "output_type": "display_data"
    },
    {
     "data": {
      "text/plain": [
       "\n",
       "Call:\n",
       "svm(formula = AHD ~ Age + Sex + ChestPain + RestBP + MaxHR + Oldpeak + \n",
       "    Slope + Ca + Thal + RestECG, data = train, kernel = \"linear\")\n",
       "\n",
       "\n",
       "Parameters:\n",
       "   SVM-Type:  C-classification \n",
       " SVM-Kernel:  linear \n",
       "       cost:  1 \n",
       "      gamma:  0.05555556 \n",
       "\n",
       "Number of Support Vectors:  99\n",
       "\n",
       " ( 49 50 )\n",
       "\n",
       "\n",
       "Number of Classes:  2 \n",
       "\n",
       "Levels: \n",
       " <50% diam. >50% diam.\n",
       "\n",
       "\n"
      ]
     },
     "metadata": {},
     "output_type": "display_data"
    },
    {
     "data": {
      "image/png": "[encoded data removed]",
      "text/plain": [
       "Plot with title \"SVM 6 Sigmoid\""
      ]
     },
     "metadata": {},
     "output_type": "display_data"
    },
    {
     "data": {
      "text/plain": [
       "            Actual\n",
       "Predicited   <50% diam. >50% diam.\n",
       "  <50% diam.        108         19\n",
       "  >50% diam.         15         95"
      ]
     },
     "metadata": {},
     "output_type": "display_data"
    },
    {
     "data": {
      "text/plain": [
       "\n",
       "Call:\n",
       "svm(formula = AHD ~ Age + Sex + ChestPain + RestBP + MaxHR + Oldpeak + \n",
       "    Slope + Ca + Thal + RestECG, data = train, kernel = \"sigmoid\")\n",
       "\n",
       "\n",
       "Parameters:\n",
       "   SVM-Type:  C-classification \n",
       " SVM-Kernel:  sigmoid \n",
       "       cost:  1 \n",
       "      gamma:  0.05555556 \n",
       "     coef.0:  0 \n",
       "\n",
       "Number of Support Vectors:  137\n",
       "\n",
       " ( 69 68 )\n",
       "\n",
       "\n",
       "Number of Classes:  2 \n",
       "\n",
       "Levels: \n",
       " <50% diam. >50% diam.\n",
       "\n",
       "\n"
      ]
     },
     "metadata": {},
     "output_type": "display_data"
    },
    {
     "data": {
      "image/png": "[encoded data removed]",
      "text/plain": [
       "Plot with title \"SVM 7 Linear\""
      ]
     },
     "metadata": {},
     "output_type": "display_data"
    },
    {
     "data": {
      "text/plain": [
       "            Actual\n",
       "Predicited   <50% diam. >50% diam.\n",
       "  <50% diam.         99         19\n",
       "  >50% diam.         24         95"
      ]
     },
     "metadata": {},
     "output_type": "display_data"
    },
    {
     "data": {
      "text/plain": [
       "\n",
       "Call:\n",
       "svm(formula = AHD ~ Age + Sex + ChestPain + RestBP + MaxHR + Oldpeak + \n",
       "    Slope + Ca + Thal + Fbs, data = train, kernel = \"linear\")\n",
       "\n",
       "\n",
       "Parameters:\n",
       "   SVM-Type:  C-classification \n",
       " SVM-Kernel:  linear \n",
       "       cost:  1 \n",
       "      gamma:  0.05882353 \n",
       "\n",
       "Number of Support Vectors:  98\n",
       "\n",
       " ( 49 49 )\n",
       "\n",
       "\n",
       "Number of Classes:  2 \n",
       "\n",
       "Levels: \n",
       " <50% diam. >50% diam.\n",
       "\n",
       "\n"
      ]
     },
     "metadata": {},
     "output_type": "display_data"
    },
    {
     "data": {
      "image/png": "[encoded data removed]",
      "text/plain": [
       "Plot with title \"SVM 7 Sigmoid\""
      ]
     },
     "metadata": {},
     "output_type": "display_data"
    },
    {
     "data": {
      "text/plain": [
       "            Actual\n",
       "Predicited   <50% diam. >50% diam.\n",
       "  <50% diam.        108         22\n",
       "  >50% diam.         15         92"
      ]
     },
     "metadata": {},
     "output_type": "display_data"
    },
    {
     "data": {
      "text/plain": [
       "\n",
       "Call:\n",
       "svm(formula = AHD ~ Age + Sex + ChestPain + RestBP + MaxHR + Oldpeak + \n",
       "    Slope + Ca + Thal + Fbs, data = train, kernel = \"sigmoid\")\n",
       "\n",
       "\n",
       "Parameters:\n",
       "   SVM-Type:  C-classification \n",
       " SVM-Kernel:  sigmoid \n",
       "       cost:  1 \n",
       "      gamma:  0.05882353 \n",
       "     coef.0:  0 \n",
       "\n",
       "Number of Support Vectors:  134\n",
       "\n",
       " ( 66 68 )\n",
       "\n",
       "\n",
       "Number of Classes:  2 \n",
       "\n",
       "Levels: \n",
       " <50% diam. >50% diam.\n",
       "\n",
       "\n"
      ]
     },
     "metadata": {},
     "output_type": "display_data"
    },
    {
     "data": {
      "image/png": "[encoded data removed]",
      "text/plain": [
       "Plot with title \"SVM 8 Linear\""
      ]
     },
     "metadata": {},
     "output_type": "display_data"
    },
    {
     "data": {
      "text/plain": [
       "            Actual\n",
       "Predicited   <50% diam. >50% diam.\n",
       "  <50% diam.        100         19\n",
       "  >50% diam.         23         95"
      ]
     },
     "metadata": {},
     "output_type": "display_data"
    },
    {
     "data": {
      "text/plain": [
       "\n",
       "Call:\n",
       "svm(formula = AHD ~ Sex + ChestPain + RestBP + MaxHR + Oldpeak + \n",
       "    Slope + Ca + Thal + Fbs + RestECG + Chol + ExAng, data = train, \n",
       "    kernel = \"linear\")\n",
       "\n",
       "\n",
       "Parameters:\n",
       "   SVM-Type:  C-classification \n",
       " SVM-Kernel:  linear \n",
       "       cost:  1 \n",
       "      gamma:  0.05 \n",
       "\n",
       "Number of Support Vectors:  98\n",
       "\n",
       " ( 49 49 )\n",
       "\n",
       "\n",
       "Number of Classes:  2 \n",
       "\n",
       "Levels: \n",
       " <50% diam. >50% diam.\n",
       "\n",
       "\n"
      ]
     },
     "metadata": {},
     "output_type": "display_data"
    },
    {
     "data": {
      "image/png": "[encoded data removed]",
      "text/plain": [
       "Plot with title \"SVM 8 Sigmoid\""
      ]
     },
     "metadata": {},
     "output_type": "display_data"
    },
    {
     "data": {
      "text/plain": [
       "            Actual\n",
       "Predicited   <50% diam. >50% diam.\n",
       "  <50% diam.        108         19\n",
       "  >50% diam.         15         95"
      ]
     },
     "metadata": {},
     "output_type": "display_data"
    },
    {
     "data": {
      "text/plain": [
       "\n",
       "Call:\n",
       "svm(formula = AHD ~ Sex + ChestPain + RestBP + MaxHR + Oldpeak + \n",
       "    Slope + Ca + Thal + Fbs + RestECG + Chol + ExAng, data = train, \n",
       "    kernel = \"sigmoid\")\n",
       "\n",
       "\n",
       "Parameters:\n",
       "   SVM-Type:  C-classification \n",
       " SVM-Kernel:  sigmoid \n",
       "       cost:  1 \n",
       "      gamma:  0.05 \n",
       "     coef.0:  0 \n",
       "\n",
       "Number of Support Vectors:  133\n",
       "\n",
       " ( 67 66 )\n",
       "\n",
       "\n",
       "Number of Classes:  2 \n",
       "\n",
       "Levels: \n",
       " <50% diam. >50% diam.\n",
       "\n",
       "\n"
      ]
     },
     "metadata": {},
     "output_type": "display_data"
    },
    {
     "data": {
      "image/png": "[encoded data removed]",
      "text/plain": [
       "Plot with title \"SVM 9 Linear\""
      ]
     },
     "metadata": {},
     "output_type": "display_data"
    },
    {
     "data": {
      "text/plain": [
       "            Actual\n",
       "Predicited   <50% diam. >50% diam.\n",
       "  <50% diam.         98         20\n",
       "  >50% diam.         25         94"
      ]
     },
     "metadata": {},
     "output_type": "display_data"
    },
    {
     "data": {
      "image/png": "[encoded data removed]",
      "text/plain": [
       "Plot with title \"SVM 9 Sigmoid\""
      ]
     },
     "metadata": {},
     "output_type": "display_data"
    }
   ],
   "source": [
    "### Support Vector Machines\n",
    "#install.packages('e1071')\n",
    "library(e1071)\n",
    "svm1_lin <-  svm(AHD ~ ., data = train, kernel = \"linear\")\n",
    "summary(svm1_lin)\n",
    "pred1_lin <- predict(svm1_lin, train, type = \"class\")\n",
    "tab_lin <- table(Predicited = pred1_lin, Actual = train$AHD)\n",
    "tab_lin\n",
    "plot(pred1_lin, main = \"SVM 1 Linear\")\n",
    "######### Sigmoid #########\n",
    "svm1_sig <-  svm(AHD ~ ., data = train, kernel = \"sigmoid\")\n",
    "summary(svm1_sig)\n",
    "pred1_sig <- predict(svm1_sig, train, type = \"class\")\n",
    "tab_sig <- table(Predicited = pred1_sig, Actual = train$AHD)\n",
    "tab_sig\n",
    "plot(pred1_sig, main = \"SVM 1 Sigmoid\")\n",
    "######### Polynomial #########\n",
    "svm1_poly <-  svm(AHD ~ ., data = train, kernel = \"polynomial\")\n",
    "summary(svm1_poly)\n",
    "pred1_poly <- predict(svm1_poly, train, type = \"class\")\n",
    "tab_poly <- table(Predicited = pred1_poly, Actual = train$AHD)\n",
    "tab_poly\n",
    "acc(tab_poly)\n",
    "plot(pred1_poly, main = \"SVM 1 Polynomial\")\n",
    "########## Svm 2 ############\n",
    "svm2 <- svm(AHD ~ Sex + ChestPain +  RestBP + MaxHR + Oldpeak + Slope + Ca, data = train, kernel = \"linear\")\n",
    "summary(svm2)\n",
    "pred2 <- predict(svm2, train, type = \"class\")\n",
    "plot(pred2, main = \"SVM 2 Linear\")\n",
    "tab2 <- table(Predicited = pred2, Actual = train$AHD)\n",
    "tab2\n",
    "######### Sigmoid ##########\n",
    "svm2_sig <- svm(AHD ~ Sex + ChestPain +  RestBP + MaxHR + Oldpeak + Slope + Ca, data = train, kernel = \"sigmoid\")\n",
    "summary(svm2_sig)\n",
    "pred2_sig <- predict(svm2_sig, train, type = \"class\")\n",
    "plot(pred2_sig, main = \"SVM 2 Sigmoid\")\n",
    "tab2_sig <- table(Predicited = pred2_sig, Actual = train$AHD)\n",
    "tab2_sig\n",
    "########## Svm 3 ############\n",
    "svm3 <- svm(AHD ~ Age + Sex + ChestPain +  RestBP + MaxHR + Oldpeak + Slope + Ca + Thal, data = train, kernel = \"linear\")\n",
    "summary(svm3)\n",
    "pred3 <- predict(svm3, train, type = \"class\")\n",
    "plot(pred3, main = \"SVM 3 Linear\")\n",
    "tab3 <- table(Predicited = pred3, Actual = train$AHD)\n",
    "tab3\n",
    "######### Sigmoid ##########\n",
    "svm3_sig <- svm(AHD ~  Age + Sex + ChestPain +  RestBP + MaxHR + Oldpeak + Slope + Ca + Thal, data = train, kernel = \"sigmoid\")\n",
    "summary(svm3_sig)\n",
    "pred3_sig <- predict(svm3_sig, train, type = \"class\")\n",
    "plot(pred3_sig, main = \"SVM 3 Sigmoid\")\n",
    "tab3_sig <- table(Predicited = pred3_sig, Actual = train$AHD)\n",
    "tab3_sig\n",
    "########## SVM 4 ###########\n",
    "svm4 <- svm(AHD ~ Age + Sex + ChestPain +  RestBP + MaxHR + Oldpeak + Slope + Ca + Thal + Chol, data = train, kernel = \"linear\")\n",
    "summary(svm4)\n",
    "pred4 <- predict(svm4, train, type = \"class\")\n",
    "plot(pred4, main = \"SVM 4 Linear\")\n",
    "tab4 <- table(Predicited = pred4, Actual = train$AHD)\n",
    "tab4\n",
    "######### poly #############\n",
    "psvm4 <- svm(AHD ~ Age + Sex + ChestPain +  RestBP + MaxHR + Oldpeak + Slope + Ca + Thal + Chol, data = train, kernel = \"polynomial\")\n",
    "summary(svm4)\n",
    "ppred4 <- predict(psvm4, train, type = \"class\")\n",
    "plot(pred4, main = \"SVM 4 Linear\")\n",
    "ptab4 <- table(Predicited = ppred4, Actual = train$AHD)\n",
    "ptab4\n",
    "acc4 = acc(ptab4)\n",
    "acc4\n",
    "######### Sigmoid ##########\n",
    "svm4_sig <- svm(AHD ~ Age + Sex + ChestPain +  RestBP + MaxHR + Oldpeak + Slope + Ca + Thal + Chol, data = train, kernel = \"sigmoid\")\n",
    "summary(svm4_sig)\n",
    "pred4_sig <- predict(svm4_sig, train, type = \"class\")\n",
    "plot(pred4_sig, main = \"SVM 4 Sigmoid\")\n",
    "tab4_sig <- table(Predicited = pred4_sig, Actual = train$AHD)\n",
    "tab4_sig\n",
    "########## SVM 5 ############\n",
    "svm5 <- svm(AHD ~ Age + Sex + ChestPain +  RestBP + MaxHR + Oldpeak + Slope + Ca + Thal + ExAng, data = train, kernel = \"linear\")\n",
    "summary(svm5)\n",
    "pred5 <- predict(svm5, train, type = \"class\")\n",
    "plot(pred5, main = \"SVM 5 Linear\")\n",
    "tab5 <- table(Predicited = pred5, Actual = train$AHD)\n",
    "tab5\n",
    "######### Sigmoid ##########\n",
    "svm5_sig <- svm(AHD ~ Age + Sex + ChestPain +  RestBP + MaxHR + Oldpeak + Slope + Ca + Thal + ExAng, data = train, kernel = \"sigmoid\")\n",
    "summary(svm5_sig)\n",
    "pred5_sig <- predict(svm5_sig, train, type = \"class\")\n",
    "plot(pred5_sig, main = \"SVM 5 Sigmoid\")\n",
    "tab5_sig <- table(Predicited = pred5_sig, Actual = train$AHD)\n",
    "tab5_sig\n",
    "########## SVM 6 ##################\n",
    "svm6 <- svm(AHD ~ Sex + ChestPain +  RestBP + MaxHR + Oldpeak + Slope + Ca + Thal + ExAng + Chol, data = train, kernel = \"linear\")\n",
    "summary(svm6)\n",
    "pred6 <- predict(svm6, train, type = \"class\")\n",
    "plot(pred6, main = \"SVM 6 Linear\")\n",
    "tab6 <- table(Predicited = pred6, Actual = train$AHD)\n",
    "tab6\n",
    "######### Sigmoid ##########\n",
    "svm6_sig <- svm(AHD ~ Sex + ChestPain +  RestBP + MaxHR + Oldpeak + Slope + Ca + Thal + ExAng + Chol, data = train, kernel = \"sigmoid\")\n",
    "summary(svm6_sig)\n",
    "pred6_sig <- predict(svm6_sig, train, type = \"class\")\n",
    "plot(pred6_sig, main = \"SVM 6 Sigmoid\")\n",
    "tab6_sig <- table(Predicited = pred6_sig, Actual = train$AHD)\n",
    "tab6_sig\n",
    "########### SVM 7 ##############\n",
    "svm7 <- svm(AHD ~ Age + Sex + ChestPain +  RestBP + MaxHR + Oldpeak + Slope + Ca + Thal +  RestECG, data = train, kernel = \"linear\")\n",
    "summary(svm7)\n",
    "pred7 <- predict(svm7, train, type = \"class\")\n",
    "plot(pred7, main = \"SVM 7 Linear\")\n",
    "tab7 <- table(Predicited = pred7, Actual = train$AHD)\n",
    "tab7\n",
    "######### Sigmoid ##########\n",
    "svm7_sig <- svm(AHD ~ Age + Sex + ChestPain +  RestBP + MaxHR + Oldpeak + Slope + Ca + Thal +  RestECG, data = train, kernel = \"sigmoid\")\n",
    "summary(svm7_sig)\n",
    "pred7_sig <- predict(svm7_sig, train, type = \"class\")\n",
    "plot(pred7_sig, main = \"SVM 7 Sigmoid\")\n",
    "tab7_sig <- table(Predicited = pred7_sig, Actual = train$AHD)\n",
    "tab7_sig\n",
    "########### SVM 8 #########\n",
    "svm8 <- svm(AHD ~ Age + Sex + ChestPain +  RestBP + MaxHR + Oldpeak + Slope + Ca + Thal +  Fbs, data = train, kernel = \"linear\")\n",
    "summary(svm8)\n",
    "pred8 <- predict(svm8, train, type = \"class\")\n",
    "plot(pred8,main = \"SVM 8 Linear\")\n",
    "tab8 <- table(Predicited = pred8, Actual = train$AHD)\n",
    "tab8\n",
    "######### Sigmoid ##########\n",
    "svm8_sig <- svm(AHD ~ Age + Sex + ChestPain +  RestBP + MaxHR + Oldpeak + Slope + Ca + Thal +  Fbs, data = train, kernel = \"sigmoid\")\n",
    "summary(svm8_sig)\n",
    "pred8_sig <- predict(svm8_sig, train, type = \"class\")\n",
    "plot(pred8_sig,main = \"SVM 8 Sigmoid\")\n",
    "tab8_sig <- table(Predicited = pred8_sig, Actual = train$AHD)\n",
    "tab8_sig\n",
    "########### SVM 9 #########\n",
    "svm9 <- svm(AHD ~ Sex + ChestPain +  RestBP + MaxHR + Oldpeak + Slope + Ca + Thal +  Fbs + RestECG + Chol + ExAng, data = train, kernel = \"linear\")\n",
    "summary(svm9)\n",
    "pred9 <- predict(svm9, train, type = \"class\")\n",
    "plot(pred9, main = \"SVM 9 Linear\")\n",
    "tab9 <- table(Predicited = pred9, Actual = train$AHD)\n",
    "tab9\n",
    "######### Sigmoid ##########\n",
    "svm9_sig <- svm(AHD ~ Sex + ChestPain +  RestBP + MaxHR + Oldpeak + Slope + Ca + Thal +  Fbs + RestECG + Chol + ExAng, data = train, kernel = \"sigmoid\")\n",
    "summary(svm9_sig)\n",
    "pred9_sig <- predict(svm9_sig, train, type = \"class\")\n",
    "plot(pred9_sig, main = \"SVM 9 Sigmoid\")\n",
    "tab9_sig <- table(Predicited = pred9_sig, Actual = train$AHD)\n",
    "tab9_sig"
   ]
  },
  {
   "cell_type": "code",
   "execution_count": 23,
   "metadata": {},
   "outputs": [
    {
     "data": {
      "text/html": [
       "<table>\n",
       "<thead><tr><th scope=col>Models</th><th scope=col>Total Support Vectors</th><th scope=col>Accuracy</th></tr></thead>\n",
       "<tbody>\n",
       "\t<tr><td>svm1    </td><td>100     </td><td>85.23   </td></tr>\n",
       "\t<tr><td>svm1_sig</td><td>133     </td><td>80.17   </td></tr>\n",
       "\t<tr><td>svm2    </td><td>103     </td><td>83.97   </td></tr>\n",
       "\t<tr><td>svm2_sig</td><td>140     </td><td>80.59   </td></tr>\n",
       "\t<tr><td>svm3    </td><td>99      </td><td>84.39   </td></tr>\n",
       "\t<tr><td>svm3_sig</td><td>132     </td><td>81.86   </td></tr>\n",
       "\t<tr><td>svm4    </td><td>98      </td><td>85.23   </td></tr>\n",
       "\t<tr><td>svm4_sig</td><td>133     </td><td>81.86   </td></tr>\n",
       "\t<tr><td>svm5    </td><td>97      </td><td>84.81   </td></tr>\n",
       "\t<tr><td>svm5_sig</td><td>130     </td><td>81.01   </td></tr>\n",
       "\t<tr><td>svm6    </td><td>99      </td><td>85.23   </td></tr>\n",
       "\t<tr><td>svm6_sig</td><td>130     </td><td>80.17   </td></tr>\n",
       "\t<tr><td>svm7    </td><td>99      </td><td>85.65   </td></tr>\n",
       "\t<tr><td>svm7_sig</td><td>137     </td><td>81.86   </td></tr>\n",
       "\t<tr><td>svm8    </td><td>98      </td><td>84.39   </td></tr>\n",
       "\t<tr><td>svm8_sig</td><td>134     </td><td>82.28   </td></tr>\n",
       "\t<tr><td>svm9    </td><td>98      </td><td>85.65   </td></tr>\n",
       "\t<tr><td>svm9_sig</td><td>133     </td><td>81.01   </td></tr>\n",
       "</tbody>\n",
       "</table>\n"
      ],
      "text/latex": [
       "\\begin{tabular}{r|lll}\n",
       " Models & Total Support Vectors & Accuracy\\\\\n",
       "\\hline\n",
       "\t svm1     & 100      & 85.23   \\\\\n",
       "\t svm1\\_sig & 133        & 80.17     \\\\\n",
       "\t svm2     & 103      & 83.97   \\\\\n",
       "\t svm2\\_sig & 140        & 80.59     \\\\\n",
       "\t svm3     & 99       & 84.39   \\\\\n",
       "\t svm3\\_sig & 132        & 81.86     \\\\\n",
       "\t svm4     & 98       & 85.23   \\\\\n",
       "\t svm4\\_sig & 133        & 81.86     \\\\\n",
       "\t svm5     & 97       & 84.81   \\\\\n",
       "\t svm5\\_sig & 130        & 81.01     \\\\\n",
       "\t svm6     & 99       & 85.23   \\\\\n",
       "\t svm6\\_sig & 130        & 80.17     \\\\\n",
       "\t svm7     & 99       & 85.65   \\\\\n",
       "\t svm7\\_sig & 137        & 81.86     \\\\\n",
       "\t svm8     & 98       & 84.39   \\\\\n",
       "\t svm8\\_sig & 134        & 82.28     \\\\\n",
       "\t svm9     & 98       & 85.65   \\\\\n",
       "\t svm9\\_sig & 133        & 81.01     \\\\\n",
       "\\end{tabular}\n"
      ],
      "text/markdown": [
       "\n",
       "Models | Total Support Vectors | Accuracy | \n",
       "|---|---|---|---|---|---|---|---|---|---|---|---|---|---|---|---|---|---|\n",
       "| svm1     | 100      | 85.23    | \n",
       "| svm1_sig | 133      | 80.17    | \n",
       "| svm2     | 103      | 83.97    | \n",
       "| svm2_sig | 140      | 80.59    | \n",
       "| svm3     | 99       | 84.39    | \n",
       "| svm3_sig | 132      | 81.86    | \n",
       "| svm4     | 98       | 85.23    | \n",
       "| svm4_sig | 133      | 81.86    | \n",
       "| svm5     | 97       | 84.81    | \n",
       "| svm5_sig | 130      | 81.01    | \n",
       "| svm6     | 99       | 85.23    | \n",
       "| svm6_sig | 130      | 80.17    | \n",
       "| svm7     | 99       | 85.65    | \n",
       "| svm7_sig | 137      | 81.86    | \n",
       "| svm8     | 98       | 84.39    | \n",
       "| svm8_sig | 134      | 82.28    | \n",
       "| svm9     | 98       | 85.65    | \n",
       "| svm9_sig | 133      | 81.01    | \n",
       "\n",
       "\n"
      ],
      "text/plain": [
       "   Models   Total Support Vectors Accuracy\n",
       "1  svm1     100                   85.23   \n",
       "2  svm1_sig 133                   80.17   \n",
       "3  svm2     103                   83.97   \n",
       "4  svm2_sig 140                   80.59   \n",
       "5  svm3     99                    84.39   \n",
       "6  svm3_sig 132                   81.86   \n",
       "7  svm4     98                    85.23   \n",
       "8  svm4_sig 133                   81.86   \n",
       "9  svm5     97                    84.81   \n",
       "10 svm5_sig 130                   81.01   \n",
       "11 svm6     99                    85.23   \n",
       "12 svm6_sig 130                   80.17   \n",
       "13 svm7     99                    85.65   \n",
       "14 svm7_sig 137                   81.86   \n",
       "15 svm8     98                    84.39   \n",
       "16 svm8_sig 134                   82.28   \n",
       "17 svm9     98                    85.65   \n",
       "18 svm9_sig 133                   81.01   "
      ]
     },
     "metadata": {},
     "output_type": "display_data"
    }
   ],
   "source": [
    "### Number of support vectors, table for each model, Accuracy for each model\n",
    "##For train \n",
    "svm_list <- list(svm1 = list(svm1_lin$tot.nSV,acc(tab_lin)),\n",
    "                 svm1_sig = list(svm1_sig$tot.nSV,acc(tab_sig)),\n",
    "                 svm2 = list(svm2$tot.nSV,acc(tab2)),\n",
    "                 svm2_sig = list(svm2_sig$tot.nSV,acc(tab2_sig)),\n",
    "                 svm3 = list(svm3$tot.nSV,acc(tab3)),\n",
    "                 svm3_sig = list(svm3_sig$tot.nSV,acc(tab3_sig)),\n",
    "                 svm4 = list(svm4$tot.nSV ,acc(tab4)),\n",
    "                 svm4_sig = list(svm4_sig$tot.nSV ,acc(tab4_sig)),\n",
    "                 svm5 = list(svm5$tot.nSV ,acc(tab5)),\n",
    "                 svm5_sig = list(svm5_sig$tot.nSV ,acc(tab5_sig)),\n",
    "                 svm6 = list(svm6$tot.nSV ,acc(tab6)),\n",
    "                 svm6_sig = list(svm6_sig$tot.nSV ,acc(tab6_sig)),\n",
    "                 svm7 = list(svm7$tot.nSV ,acc(tab7)),\n",
    "                 svm7_sig = list(svm7_sig$tot.nSV ,acc(tab7_sig)),\n",
    "                 svm8 = list(svm8$tot.nSV ,acc(tab8)),\n",
    "                 svm8_sig = list(svm8_sig$tot.nSV ,acc(tab8_sig)),\n",
    "                 svm9 = list(svm9$tot.nSV ,acc(tab9)),\n",
    "                 svm9_sig = list(svm9_sig$tot.nSV ,acc(tab9_sig)))\n",
    "svm_info1 <- do.call(rbind, svm_list)\n",
    "svm_info2  <- as.data.frame(svm_info1 )\n",
    "svm_info <- rownames_to_column(svm_info2, \"Models\")\n",
    "names(svm_info)[2] <- \"Total Support Vectors\"\n",
    "names(svm_info)[3] <- \"Accuracy\"\n",
    "svm_info$Accuracy <- round(as.numeric(svm_info$Accuracy), 2)\n",
    "svm_info"
   ]
  },
  {
   "cell_type": "code",
   "execution_count": 24,
   "metadata": {},
   "outputs": [
    {
     "data": {
      "text/plain": [
       "$svm1\n",
       "            Actual\n",
       "Predicited   <50% diam. >50% diam.\n",
       "  <50% diam.        107         19\n",
       "  >50% diam.         16         95\n",
       "\n",
       "$svm2\n",
       "            Actual\n",
       "Predicited   <50% diam. >50% diam.\n",
       "  <50% diam.        104         19\n",
       "  >50% diam.         19         95\n",
       "\n",
       "$svm3\n",
       "            Actual\n",
       "Predicited   <50% diam. >50% diam.\n",
       "  <50% diam.        108         22\n",
       "  >50% diam.         15         92\n",
       "\n",
       "$svm4\n",
       "            Actual\n",
       "Predicited   <50% diam. >50% diam.\n",
       "  <50% diam.        106         18\n",
       "  >50% diam.         17         96\n",
       "\n",
       "$svm5\n",
       "            Actual\n",
       "Predicited   <50% diam. >50% diam.\n",
       "  <50% diam.        108         21\n",
       "  >50% diam.         15         93\n",
       "\n",
       "$svm6\n",
       "            Actual\n",
       "Predicited   <50% diam. >50% diam.\n",
       "  <50% diam.        109         21\n",
       "  >50% diam.         14         93\n",
       "\n",
       "$svm7\n",
       "            Actual\n",
       "Predicited   <50% diam. >50% diam.\n",
       "  <50% diam.        108         19\n",
       "  >50% diam.         15         95\n",
       "\n",
       "$svm8\n",
       "            Actual\n",
       "Predicited   <50% diam. >50% diam.\n",
       "  <50% diam.        108         22\n",
       "  >50% diam.         15         92\n",
       "\n",
       "$svm9\n",
       "            Actual\n",
       "Predicited   <50% diam. >50% diam.\n",
       "  <50% diam.        108         19\n",
       "  >50% diam.         15         95\n"
      ]
     },
     "metadata": {},
     "output_type": "display_data"
    }
   ],
   "source": [
    "###Tables\n",
    "svm_tables <- list(svm1 = tab_lin,\n",
    "                   svm2 = tab2,\n",
    "                   svm3 = tab3,\n",
    "                   svm4 = tab4,\n",
    "                   svm5 = tab5,\n",
    "                   svm6 = tab6,\n",
    "                   svm7 = tab7,\n",
    "                   svm8 = tab8,\n",
    "                   svm9 = tab9)\n",
    "svm_tables"
   ]
  },
  {
   "cell_type": "code",
   "execution_count": 25,
   "metadata": {},
   "outputs": [
    {
     "data": {
      "text/plain": [
       "            Actual\n",
       "Predicited   <50% diam. >50% diam.\n",
       "  <50% diam.         36          3\n",
       "  >50% diam.          1         20"
      ]
     },
     "metadata": {},
     "output_type": "display_data"
    },
    {
     "data": {
      "text/html": [
       "93.3333333333333"
      ],
      "text/latex": [
       "93.3333333333333"
      ],
      "text/markdown": [
       "93.3333333333333"
      ],
      "text/plain": [
       "[1] 93.33333"
      ]
     },
     "metadata": {},
     "output_type": "display_data"
    },
    {
     "data": {
      "image/png": "[encoded data removed]",
      "text/plain": [
       "Plot with title \"SVM 4 (Test Data)\""
      ]
     },
     "metadata": {},
     "output_type": "display_data"
    },
    {
     "data": {
      "text/plain": [
       "            Actual\n",
       "Predicited   <50% diam. >50% diam.\n",
       "  <50% diam.         36          4\n",
       "  >50% diam.          1         19"
      ]
     },
     "metadata": {},
     "output_type": "display_data"
    },
    {
     "data": {
      "text/html": [
       "91.6666666666667"
      ],
      "text/latex": [
       "91.6666666666667"
      ],
      "text/markdown": [
       "91.6666666666667"
      ],
      "text/plain": [
       "[1] 91.66667"
      ]
     },
     "metadata": {},
     "output_type": "display_data"
    },
    {
     "data": {
      "image/png": "[encoded data removed]",
      "text/plain": [
       "Plot with title \"SVM 7 (Test Data)\""
      ]
     },
     "metadata": {},
     "output_type": "display_data"
    },
    {
     "data": {
      "text/plain": [
       "            Actual\n",
       "Predicited   <50% diam. >50% diam.\n",
       "  <50% diam.         35          3\n",
       "  >50% diam.          2         20"
      ]
     },
     "metadata": {},
     "output_type": "display_data"
    },
    {
     "data": {
      "text/html": [
       "91.6666666666667"
      ],
      "text/latex": [
       "91.6666666666667"
      ],
      "text/markdown": [
       "91.6666666666667"
      ],
      "text/plain": [
       "[1] 91.66667"
      ]
     },
     "metadata": {},
     "output_type": "display_data"
    },
    {
     "data": {
      "image/png": "[encoded data removed]",
      "text/plain": [
       "Plot with title \"SVM 9 (Test Data)\""
      ]
     },
     "metadata": {},
     "output_type": "display_data"
    }
   ],
   "source": [
    "### Best Models \n",
    "### svm 4\n",
    "pred_4 <- predict(svm4, test, type = \"class\")\n",
    "plot(pred_4,main = \"SVM 4 (Test Data)\")\n",
    "tab_4 <- table(Predicited = pred_4, Actual = test$AHD)\n",
    "tab_4\n",
    "acc(tab_4)\n",
    "### svm 7\n",
    "pred_7 <- predict(svm7, test, type = \"class\")\n",
    "plot(pred_7, main = \"SVM 7 (Test Data)\")\n",
    "tab_7 <- table(Predicited = pred_7, Actual = test$AHD)\n",
    "tab_7\n",
    "acc(tab_7)\n",
    "### svm 9 \n",
    "pred_9 <- predict(svm9, test, type = \"class\")\n",
    "plot(pred_9, main = \"SVM 9 (Test Data)\")\n",
    "tab_9 <- table(Predicited = pred_9, Actual = test$AHD)\n",
    "tab_9\n",
    "acc(tab_9)"
   ]
  },
  {
   "cell_type": "code",
   "execution_count": 26,
   "metadata": {},
   "outputs": [
    {
     "data": {
      "text/plain": [
       "$svm4\n",
       "$svm4$Total_Support_Vectors\n",
       "[1] 98\n",
       "\n",
       "$svm4$Table\n",
       "            Actual\n",
       "Predicited   <50% diam. >50% diam.\n",
       "  <50% diam.         36          3\n",
       "  >50% diam.          1         20\n",
       "\n",
       "$svm4$Accuracy\n",
       "[1] 93.33333\n",
       "\n",
       "\n",
       "$svm7\n",
       "$svm7$Total_Support_Vectors\n",
       "[1] 99\n",
       "\n",
       "$svm7$Table\n",
       "            Actual\n",
       "Predicited   <50% diam. >50% diam.\n",
       "  <50% diam.         36          4\n",
       "  >50% diam.          1         19\n",
       "\n",
       "$svm7$Accuracy\n",
       "[1] 91.66667\n",
       "\n",
       "\n",
       "$svm9\n",
       "$svm9$Total_Support_Vectors\n",
       "[1] 98\n",
       "\n",
       "$svm9$Table\n",
       "            Actual\n",
       "Predicited   <50% diam. >50% diam.\n",
       "  <50% diam.         35          3\n",
       "  >50% diam.          2         20\n",
       "\n",
       "$svm9$Accuracy\n",
       "[1] 91.66667\n",
       "\n"
      ]
     },
     "metadata": {},
     "output_type": "display_data"
    }
   ],
   "source": [
    "### Number of support vectors, table for each model, Accuracy for each model\n",
    "### For test\n",
    "list(svm4 = list(Total_Support_Vectors = svm4$tot.nSV, Table = tab_4 ,Accuracy = acc(tab_4)),\n",
    "     svm7 = list(Total_Support_Vectors = svm7$tot.nSV,Table = tab_7 ,Accuracy = acc(tab_7)),\n",
    "     svm9 = list(Total_Support_Vectors = svm9$tot.nSV,Table = tab_9 ,Accuracy = acc(tab_9)))"
   ]
  },
  {
   "cell_type": "code",
   "execution_count": null,
   "metadata": {},
   "outputs": [],
   "source": [
    "### The final best model was SVM 4, which gives 93.33% accuracy for test data set. "
   ]
  }
 ],
 "metadata": {
  "kernelspec": {
   "display_name": "R",
   "language": "R",
   "name": "ir"
  },
  "language_info": {
   "codemirror_mode": "r",
   "file_extension": ".r",
   "mimetype": "text/x-r-source",
   "name": "R",
   "pygments_lexer": "r",
   "version": "3.5.1"
  }
 },
 "nbformat": 4,
 "nbformat_minor": 2
}
